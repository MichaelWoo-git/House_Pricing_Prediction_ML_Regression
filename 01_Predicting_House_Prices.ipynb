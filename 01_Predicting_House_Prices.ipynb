{
 "cells": [
  {
   "cell_type": "markdown",
   "metadata": {},
   "source": [
    "### Your tasks\n",
    "\n",
    "\n",
    "1. Data cleaning and preparation. Be careful with those missing data and outliers.\n",
    "2. Use the feature engineering techniques to create 10 new features and give your rationals. It can be common sense, or statistics or by any techniques in last class.\n",
    "3. Use your new features to predict the home price. You will use RandomForestRegressor as shown in the class.\n",
    "4. Try different new features to improve the model performance. Choose the appropriate performance matrics. Show your improvement.\n",
    "5. Use Shapley summary plot to explain your model.\n",
    "6. Submit all in a Jupyter file and HTML format on canvas"
   ]
  },
  {
   "cell_type": "markdown",
   "metadata": {},
   "source": [
    "##### Reading in Data"
   ]
  },
  {
   "cell_type": "code",
   "execution_count": 1,
   "metadata": {},
   "outputs": [],
   "source": [
    "import numpy as np\n",
    "import pandas as pd\n",
    "train_data = pd.read_csv(\"data/train.csv\")\n",
    "test_data = pd.read_csv(\"data/test.csv\")"
   ]
  },
  {
   "cell_type": "markdown",
   "metadata": {},
   "source": [
    "##### Viewing data"
   ]
  },
  {
   "cell_type": "code",
   "execution_count": 2,
   "metadata": {
    "scrolled": true
   },
   "outputs": [
    {
     "name": "stdout",
     "output_type": "stream",
     "text": [
      "<class 'pandas.core.frame.DataFrame'>\n",
      "RangeIndex: 1460 entries, 0 to 1459\n",
      "Data columns (total 81 columns):\n",
      " #   Column         Non-Null Count  Dtype  \n",
      "---  ------         --------------  -----  \n",
      " 0   Id             1460 non-null   int64  \n",
      " 1   MSSubClass     1460 non-null   int64  \n",
      " 2   MSZoning       1460 non-null   object \n",
      " 3   LotFrontage    1201 non-null   float64\n",
      " 4   LotArea        1460 non-null   int64  \n",
      " 5   Street         1460 non-null   object \n",
      " 6   Alley          91 non-null     object \n",
      " 7   LotShape       1460 non-null   object \n",
      " 8   LandContour    1460 non-null   object \n",
      " 9   Utilities      1460 non-null   object \n",
      " 10  LotConfig      1460 non-null   object \n",
      " 11  LandSlope      1460 non-null   object \n",
      " 12  Neighborhood   1460 non-null   object \n",
      " 13  Condition1     1460 non-null   object \n",
      " 14  Condition2     1460 non-null   object \n",
      " 15  BldgType       1460 non-null   object \n",
      " 16  HouseStyle     1460 non-null   object \n",
      " 17  OverallQual    1460 non-null   int64  \n",
      " 18  OverallCond    1460 non-null   int64  \n",
      " 19  YearBuilt      1460 non-null   int64  \n",
      " 20  YearRemodAdd   1460 non-null   int64  \n",
      " 21  RoofStyle      1460 non-null   object \n",
      " 22  RoofMatl       1460 non-null   object \n",
      " 23  Exterior1st    1460 non-null   object \n",
      " 24  Exterior2nd    1460 non-null   object \n",
      " 25  MasVnrType     1452 non-null   object \n",
      " 26  MasVnrArea     1452 non-null   float64\n",
      " 27  ExterQual      1460 non-null   object \n",
      " 28  ExterCond      1460 non-null   object \n",
      " 29  Foundation     1460 non-null   object \n",
      " 30  BsmtQual       1423 non-null   object \n",
      " 31  BsmtCond       1423 non-null   object \n",
      " 32  BsmtExposure   1422 non-null   object \n",
      " 33  BsmtFinType1   1423 non-null   object \n",
      " 34  BsmtFinSF1     1460 non-null   int64  \n",
      " 35  BsmtFinType2   1422 non-null   object \n",
      " 36  BsmtFinSF2     1460 non-null   int64  \n",
      " 37  BsmtUnfSF      1460 non-null   int64  \n",
      " 38  TotalBsmtSF    1460 non-null   int64  \n",
      " 39  Heating        1460 non-null   object \n",
      " 40  HeatingQC      1460 non-null   object \n",
      " 41  CentralAir     1460 non-null   object \n",
      " 42  Electrical     1459 non-null   object \n",
      " 43  1stFlrSF       1460 non-null   int64  \n",
      " 44  2ndFlrSF       1460 non-null   int64  \n",
      " 45  LowQualFinSF   1460 non-null   int64  \n",
      " 46  GrLivArea      1460 non-null   int64  \n",
      " 47  BsmtFullBath   1460 non-null   int64  \n",
      " 48  BsmtHalfBath   1460 non-null   int64  \n",
      " 49  FullBath       1460 non-null   int64  \n",
      " 50  HalfBath       1460 non-null   int64  \n",
      " 51  BedroomAbvGr   1460 non-null   int64  \n",
      " 52  KitchenAbvGr   1460 non-null   int64  \n",
      " 53  KitchenQual    1460 non-null   object \n",
      " 54  TotRmsAbvGrd   1460 non-null   int64  \n",
      " 55  Functional     1460 non-null   object \n",
      " 56  Fireplaces     1460 non-null   int64  \n",
      " 57  FireplaceQu    770 non-null    object \n",
      " 58  GarageType     1379 non-null   object \n",
      " 59  GarageYrBlt    1379 non-null   float64\n",
      " 60  GarageFinish   1379 non-null   object \n",
      " 61  GarageCars     1460 non-null   int64  \n",
      " 62  GarageArea     1460 non-null   int64  \n",
      " 63  GarageQual     1379 non-null   object \n",
      " 64  GarageCond     1379 non-null   object \n",
      " 65  PavedDrive     1460 non-null   object \n",
      " 66  WoodDeckSF     1460 non-null   int64  \n",
      " 67  OpenPorchSF    1460 non-null   int64  \n",
      " 68  EnclosedPorch  1460 non-null   int64  \n",
      " 69  3SsnPorch      1460 non-null   int64  \n",
      " 70  ScreenPorch    1460 non-null   int64  \n",
      " 71  PoolArea       1460 non-null   int64  \n",
      " 72  PoolQC         7 non-null      object \n",
      " 73  Fence          281 non-null    object \n",
      " 74  MiscFeature    54 non-null     object \n",
      " 75  MiscVal        1460 non-null   int64  \n",
      " 76  MoSold         1460 non-null   int64  \n",
      " 77  YrSold         1460 non-null   int64  \n",
      " 78  SaleType       1460 non-null   object \n",
      " 79  SaleCondition  1460 non-null   object \n",
      " 80  SalePrice      1460 non-null   int64  \n",
      "dtypes: float64(3), int64(35), object(43)\n",
      "memory usage: 924.0+ KB\n"
     ]
    }
   ],
   "source": [
    "train_data.info()"
   ]
  },
  {
   "cell_type": "markdown",
   "metadata": {},
   "source": [
    "##### Column Names that has numerical values"
   ]
  },
  {
   "cell_type": "code",
   "execution_count": 3,
   "metadata": {
    "scrolled": true
   },
   "outputs": [
    {
     "name": "stdout",
     "output_type": "stream",
     "text": [
      "<class 'pandas.core.frame.DataFrame'>\n",
      "RangeIndex: 1460 entries, 0 to 1459\n",
      "Data columns (total 38 columns):\n",
      " #   Column         Non-Null Count  Dtype  \n",
      "---  ------         --------------  -----  \n",
      " 0   Id             1460 non-null   int64  \n",
      " 1   MSSubClass     1460 non-null   int64  \n",
      " 2   LotFrontage    1201 non-null   float64\n",
      " 3   LotArea        1460 non-null   int64  \n",
      " 4   OverallQual    1460 non-null   int64  \n",
      " 5   OverallCond    1460 non-null   int64  \n",
      " 6   YearBuilt      1460 non-null   int64  \n",
      " 7   YearRemodAdd   1460 non-null   int64  \n",
      " 8   MasVnrArea     1452 non-null   float64\n",
      " 9   BsmtFinSF1     1460 non-null   int64  \n",
      " 10  BsmtFinSF2     1460 non-null   int64  \n",
      " 11  BsmtUnfSF      1460 non-null   int64  \n",
      " 12  TotalBsmtSF    1460 non-null   int64  \n",
      " 13  1stFlrSF       1460 non-null   int64  \n",
      " 14  2ndFlrSF       1460 non-null   int64  \n",
      " 15  LowQualFinSF   1460 non-null   int64  \n",
      " 16  GrLivArea      1460 non-null   int64  \n",
      " 17  BsmtFullBath   1460 non-null   int64  \n",
      " 18  BsmtHalfBath   1460 non-null   int64  \n",
      " 19  FullBath       1460 non-null   int64  \n",
      " 20  HalfBath       1460 non-null   int64  \n",
      " 21  BedroomAbvGr   1460 non-null   int64  \n",
      " 22  KitchenAbvGr   1460 non-null   int64  \n",
      " 23  TotRmsAbvGrd   1460 non-null   int64  \n",
      " 24  Fireplaces     1460 non-null   int64  \n",
      " 25  GarageYrBlt    1379 non-null   float64\n",
      " 26  GarageCars     1460 non-null   int64  \n",
      " 27  GarageArea     1460 non-null   int64  \n",
      " 28  WoodDeckSF     1460 non-null   int64  \n",
      " 29  OpenPorchSF    1460 non-null   int64  \n",
      " 30  EnclosedPorch  1460 non-null   int64  \n",
      " 31  3SsnPorch      1460 non-null   int64  \n",
      " 32  ScreenPorch    1460 non-null   int64  \n",
      " 33  PoolArea       1460 non-null   int64  \n",
      " 34  MiscVal        1460 non-null   int64  \n",
      " 35  MoSold         1460 non-null   int64  \n",
      " 36  YrSold         1460 non-null   int64  \n",
      " 37  SalePrice      1460 non-null   int64  \n",
      "dtypes: float64(3), int64(35)\n",
      "memory usage: 433.6 KB\n"
     ]
    }
   ],
   "source": [
    "numerical_data_column_names = train_data.describe().columns\n",
    "df = train_data[numerical_data_column_names].info()"
   ]
  },
  {
   "cell_type": "markdown",
   "metadata": {},
   "source": [
    "### Data Cleaning and Preparation"
   ]
  },
  {
   "cell_type": "markdown",
   "metadata": {},
   "source": [
    "##### Filling in the null values"
   ]
  },
  {
   "cell_type": "markdown",
   "metadata": {},
   "source": [
    "* As we can see from the information above we saw there were 3 columns that had null values"
   ]
  },
  {
   "cell_type": "code",
   "execution_count": 4,
   "metadata": {},
   "outputs": [],
   "source": [
    "train_data[\"LotFrontage\"].fillna(train_data[\"LotFrontage\"].mode()[0],inplace=True)\n",
    "train_data[\"MasVnrArea\"].fillna(0,inplace=True)\n",
    "train_data[\"GarageYrBlt\"].fillna(train_data[\"YearBuilt\"],inplace=True)"
   ]
  },
  {
   "cell_type": "markdown",
   "metadata": {},
   "source": [
    "##### Recheck of the null values...ensuring that they were filled in"
   ]
  },
  {
   "cell_type": "code",
   "execution_count": 5,
   "metadata": {
    "scrolled": true
   },
   "outputs": [
    {
     "name": "stdout",
     "output_type": "stream",
     "text": [
      "<class 'pandas.core.frame.DataFrame'>\n",
      "RangeIndex: 1460 entries, 0 to 1459\n",
      "Data columns (total 38 columns):\n",
      " #   Column         Non-Null Count  Dtype  \n",
      "---  ------         --------------  -----  \n",
      " 0   Id             1460 non-null   int64  \n",
      " 1   MSSubClass     1460 non-null   int64  \n",
      " 2   LotFrontage    1460 non-null   float64\n",
      " 3   LotArea        1460 non-null   int64  \n",
      " 4   OverallQual    1460 non-null   int64  \n",
      " 5   OverallCond    1460 non-null   int64  \n",
      " 6   YearBuilt      1460 non-null   int64  \n",
      " 7   YearRemodAdd   1460 non-null   int64  \n",
      " 8   MasVnrArea     1460 non-null   float64\n",
      " 9   BsmtFinSF1     1460 non-null   int64  \n",
      " 10  BsmtFinSF2     1460 non-null   int64  \n",
      " 11  BsmtUnfSF      1460 non-null   int64  \n",
      " 12  TotalBsmtSF    1460 non-null   int64  \n",
      " 13  1stFlrSF       1460 non-null   int64  \n",
      " 14  2ndFlrSF       1460 non-null   int64  \n",
      " 15  LowQualFinSF   1460 non-null   int64  \n",
      " 16  GrLivArea      1460 non-null   int64  \n",
      " 17  BsmtFullBath   1460 non-null   int64  \n",
      " 18  BsmtHalfBath   1460 non-null   int64  \n",
      " 19  FullBath       1460 non-null   int64  \n",
      " 20  HalfBath       1460 non-null   int64  \n",
      " 21  BedroomAbvGr   1460 non-null   int64  \n",
      " 22  KitchenAbvGr   1460 non-null   int64  \n",
      " 23  TotRmsAbvGrd   1460 non-null   int64  \n",
      " 24  Fireplaces     1460 non-null   int64  \n",
      " 25  GarageYrBlt    1460 non-null   float64\n",
      " 26  GarageCars     1460 non-null   int64  \n",
      " 27  GarageArea     1460 non-null   int64  \n",
      " 28  WoodDeckSF     1460 non-null   int64  \n",
      " 29  OpenPorchSF    1460 non-null   int64  \n",
      " 30  EnclosedPorch  1460 non-null   int64  \n",
      " 31  3SsnPorch      1460 non-null   int64  \n",
      " 32  ScreenPorch    1460 non-null   int64  \n",
      " 33  PoolArea       1460 non-null   int64  \n",
      " 34  MiscVal        1460 non-null   int64  \n",
      " 35  MoSold         1460 non-null   int64  \n",
      " 36  YrSold         1460 non-null   int64  \n",
      " 37  SalePrice      1460 non-null   int64  \n",
      "dtypes: float64(3), int64(35)\n",
      "memory usage: 433.6 KB\n"
     ]
    }
   ],
   "source": [
    "train_data[numerical_data_column_names].info()"
   ]
  },
  {
   "cell_type": "markdown",
   "metadata": {},
   "source": [
    "##### Lets enconder the string values into numerical values so that the classifer can read in the data and replace the NaN values in the data...We do it for both test and train data"
   ]
  },
  {
   "cell_type": "code",
   "execution_count": 6,
   "metadata": {},
   "outputs": [],
   "source": [
    "from sklearn.preprocessing import LabelEncoder\n",
    "for col in train_data.columns:\n",
    "    #print(col)\n",
    "    if train_data[col].dtype == \"O\":\n",
    "        train_data[col] = train_data[col].replace(np.nan,\"None\")\n",
    "        le = LabelEncoder()\n",
    "        train_data[col] = le.fit_transform(train_data[col])\n",
    "for col in test_data.columns:\n",
    "    if test_data[col].dtype == \"O\":\n",
    "        test_data[col] = test_data[col].replace(np.nan,\"None\")\n",
    "        le = LabelEncoder()\n",
    "        test_data[col] = le.fit_transform(test_data[col])"
   ]
  },
  {
   "cell_type": "markdown",
   "metadata": {},
   "source": [
    "##### Encoding the Objects with the Label Encoder\n",
    "* Encode target labels with value between 0 and n_classes-1"
   ]
  },
  {
   "cell_type": "code",
   "execution_count": 7,
   "metadata": {},
   "outputs": [
    {
     "data": {
      "text/html": [
       "<div>\n",
       "<style scoped>\n",
       "    .dataframe tbody tr th:only-of-type {\n",
       "        vertical-align: middle;\n",
       "    }\n",
       "\n",
       "    .dataframe tbody tr th {\n",
       "        vertical-align: top;\n",
       "    }\n",
       "\n",
       "    .dataframe thead th {\n",
       "        text-align: right;\n",
       "    }\n",
       "</style>\n",
       "<table border=\"1\" class=\"dataframe\">\n",
       "  <thead>\n",
       "    <tr style=\"text-align: right;\">\n",
       "      <th></th>\n",
       "      <th>Id</th>\n",
       "      <th>MSSubClass</th>\n",
       "      <th>MSZoning</th>\n",
       "      <th>LotFrontage</th>\n",
       "      <th>LotArea</th>\n",
       "      <th>Street</th>\n",
       "      <th>Alley</th>\n",
       "      <th>LotShape</th>\n",
       "      <th>LandContour</th>\n",
       "      <th>Utilities</th>\n",
       "      <th>...</th>\n",
       "      <th>PoolArea</th>\n",
       "      <th>PoolQC</th>\n",
       "      <th>Fence</th>\n",
       "      <th>MiscFeature</th>\n",
       "      <th>MiscVal</th>\n",
       "      <th>MoSold</th>\n",
       "      <th>YrSold</th>\n",
       "      <th>SaleType</th>\n",
       "      <th>SaleCondition</th>\n",
       "      <th>SalePrice</th>\n",
       "    </tr>\n",
       "  </thead>\n",
       "  <tbody>\n",
       "    <tr>\n",
       "      <th>0</th>\n",
       "      <td>1</td>\n",
       "      <td>60</td>\n",
       "      <td>3</td>\n",
       "      <td>65.0</td>\n",
       "      <td>8450</td>\n",
       "      <td>1</td>\n",
       "      <td>1</td>\n",
       "      <td>3</td>\n",
       "      <td>3</td>\n",
       "      <td>0</td>\n",
       "      <td>...</td>\n",
       "      <td>0</td>\n",
       "      <td>3</td>\n",
       "      <td>4</td>\n",
       "      <td>1</td>\n",
       "      <td>0</td>\n",
       "      <td>2</td>\n",
       "      <td>2008</td>\n",
       "      <td>8</td>\n",
       "      <td>4</td>\n",
       "      <td>208500</td>\n",
       "    </tr>\n",
       "    <tr>\n",
       "      <th>1</th>\n",
       "      <td>2</td>\n",
       "      <td>20</td>\n",
       "      <td>3</td>\n",
       "      <td>80.0</td>\n",
       "      <td>9600</td>\n",
       "      <td>1</td>\n",
       "      <td>1</td>\n",
       "      <td>3</td>\n",
       "      <td>3</td>\n",
       "      <td>0</td>\n",
       "      <td>...</td>\n",
       "      <td>0</td>\n",
       "      <td>3</td>\n",
       "      <td>4</td>\n",
       "      <td>1</td>\n",
       "      <td>0</td>\n",
       "      <td>5</td>\n",
       "      <td>2007</td>\n",
       "      <td>8</td>\n",
       "      <td>4</td>\n",
       "      <td>181500</td>\n",
       "    </tr>\n",
       "    <tr>\n",
       "      <th>2</th>\n",
       "      <td>3</td>\n",
       "      <td>60</td>\n",
       "      <td>3</td>\n",
       "      <td>68.0</td>\n",
       "      <td>11250</td>\n",
       "      <td>1</td>\n",
       "      <td>1</td>\n",
       "      <td>0</td>\n",
       "      <td>3</td>\n",
       "      <td>0</td>\n",
       "      <td>...</td>\n",
       "      <td>0</td>\n",
       "      <td>3</td>\n",
       "      <td>4</td>\n",
       "      <td>1</td>\n",
       "      <td>0</td>\n",
       "      <td>9</td>\n",
       "      <td>2008</td>\n",
       "      <td>8</td>\n",
       "      <td>4</td>\n",
       "      <td>223500</td>\n",
       "    </tr>\n",
       "    <tr>\n",
       "      <th>3</th>\n",
       "      <td>4</td>\n",
       "      <td>70</td>\n",
       "      <td>3</td>\n",
       "      <td>60.0</td>\n",
       "      <td>9550</td>\n",
       "      <td>1</td>\n",
       "      <td>1</td>\n",
       "      <td>0</td>\n",
       "      <td>3</td>\n",
       "      <td>0</td>\n",
       "      <td>...</td>\n",
       "      <td>0</td>\n",
       "      <td>3</td>\n",
       "      <td>4</td>\n",
       "      <td>1</td>\n",
       "      <td>0</td>\n",
       "      <td>2</td>\n",
       "      <td>2006</td>\n",
       "      <td>8</td>\n",
       "      <td>0</td>\n",
       "      <td>140000</td>\n",
       "    </tr>\n",
       "    <tr>\n",
       "      <th>4</th>\n",
       "      <td>5</td>\n",
       "      <td>60</td>\n",
       "      <td>3</td>\n",
       "      <td>84.0</td>\n",
       "      <td>14260</td>\n",
       "      <td>1</td>\n",
       "      <td>1</td>\n",
       "      <td>0</td>\n",
       "      <td>3</td>\n",
       "      <td>0</td>\n",
       "      <td>...</td>\n",
       "      <td>0</td>\n",
       "      <td>3</td>\n",
       "      <td>4</td>\n",
       "      <td>1</td>\n",
       "      <td>0</td>\n",
       "      <td>12</td>\n",
       "      <td>2008</td>\n",
       "      <td>8</td>\n",
       "      <td>4</td>\n",
       "      <td>250000</td>\n",
       "    </tr>\n",
       "  </tbody>\n",
       "</table>\n",
       "<p>5 rows × 81 columns</p>\n",
       "</div>"
      ],
      "text/plain": [
       "   Id  MSSubClass  MSZoning  LotFrontage  LotArea  Street  Alley  LotShape  \\\n",
       "0   1          60         3         65.0     8450       1      1         3   \n",
       "1   2          20         3         80.0     9600       1      1         3   \n",
       "2   3          60         3         68.0    11250       1      1         0   \n",
       "3   4          70         3         60.0     9550       1      1         0   \n",
       "4   5          60         3         84.0    14260       1      1         0   \n",
       "\n",
       "   LandContour  Utilities  ...  PoolArea  PoolQC  Fence  MiscFeature  MiscVal  \\\n",
       "0            3          0  ...         0       3      4            1        0   \n",
       "1            3          0  ...         0       3      4            1        0   \n",
       "2            3          0  ...         0       3      4            1        0   \n",
       "3            3          0  ...         0       3      4            1        0   \n",
       "4            3          0  ...         0       3      4            1        0   \n",
       "\n",
       "   MoSold  YrSold  SaleType  SaleCondition  SalePrice  \n",
       "0       2    2008         8              4     208500  \n",
       "1       5    2007         8              4     181500  \n",
       "2       9    2008         8              4     223500  \n",
       "3       2    2006         8              0     140000  \n",
       "4      12    2008         8              4     250000  \n",
       "\n",
       "[5 rows x 81 columns]"
      ]
     },
     "execution_count": 7,
     "metadata": {},
     "output_type": "execute_result"
    }
   ],
   "source": [
    "from sklearn import preprocessing\n",
    "categorical_data_column_names = set(train_data.columns) - set(train_data.describe().columns)\n",
    "for name in categorical_data_column_names:\n",
    "    le = preprocessing.LabelEncoder()\n",
    "    x = train_data[name].values\n",
    "    le.fit(x)\n",
    "    train_data[name] = le.transform(x)\n",
    "train_data.head()"
   ]
  },
  {
   "cell_type": "code",
   "execution_count": 8,
   "metadata": {
    "scrolled": true
   },
   "outputs": [
    {
     "name": "stdout",
     "output_type": "stream",
     "text": [
      "<class 'pandas.core.frame.DataFrame'>\n",
      "RangeIndex: 1460 entries, 0 to 1459\n",
      "Data columns (total 81 columns):\n",
      " #   Column         Non-Null Count  Dtype  \n",
      "---  ------         --------------  -----  \n",
      " 0   Id             1460 non-null   int64  \n",
      " 1   MSSubClass     1460 non-null   int64  \n",
      " 2   MSZoning       1460 non-null   int64  \n",
      " 3   LotFrontage    1460 non-null   float64\n",
      " 4   LotArea        1460 non-null   int64  \n",
      " 5   Street         1460 non-null   int64  \n",
      " 6   Alley          1460 non-null   int64  \n",
      " 7   LotShape       1460 non-null   int64  \n",
      " 8   LandContour    1460 non-null   int64  \n",
      " 9   Utilities      1460 non-null   int64  \n",
      " 10  LotConfig      1460 non-null   int64  \n",
      " 11  LandSlope      1460 non-null   int64  \n",
      " 12  Neighborhood   1460 non-null   int64  \n",
      " 13  Condition1     1460 non-null   int64  \n",
      " 14  Condition2     1460 non-null   int64  \n",
      " 15  BldgType       1460 non-null   int64  \n",
      " 16  HouseStyle     1460 non-null   int64  \n",
      " 17  OverallQual    1460 non-null   int64  \n",
      " 18  OverallCond    1460 non-null   int64  \n",
      " 19  YearBuilt      1460 non-null   int64  \n",
      " 20  YearRemodAdd   1460 non-null   int64  \n",
      " 21  RoofStyle      1460 non-null   int64  \n",
      " 22  RoofMatl       1460 non-null   int64  \n",
      " 23  Exterior1st    1460 non-null   int64  \n",
      " 24  Exterior2nd    1460 non-null   int64  \n",
      " 25  MasVnrType     1460 non-null   int64  \n",
      " 26  MasVnrArea     1460 non-null   float64\n",
      " 27  ExterQual      1460 non-null   int64  \n",
      " 28  ExterCond      1460 non-null   int64  \n",
      " 29  Foundation     1460 non-null   int64  \n",
      " 30  BsmtQual       1460 non-null   int64  \n",
      " 31  BsmtCond       1460 non-null   int64  \n",
      " 32  BsmtExposure   1460 non-null   int64  \n",
      " 33  BsmtFinType1   1460 non-null   int64  \n",
      " 34  BsmtFinSF1     1460 non-null   int64  \n",
      " 35  BsmtFinType2   1460 non-null   int64  \n",
      " 36  BsmtFinSF2     1460 non-null   int64  \n",
      " 37  BsmtUnfSF      1460 non-null   int64  \n",
      " 38  TotalBsmtSF    1460 non-null   int64  \n",
      " 39  Heating        1460 non-null   int64  \n",
      " 40  HeatingQC      1460 non-null   int64  \n",
      " 41  CentralAir     1460 non-null   int64  \n",
      " 42  Electrical     1460 non-null   int64  \n",
      " 43  1stFlrSF       1460 non-null   int64  \n",
      " 44  2ndFlrSF       1460 non-null   int64  \n",
      " 45  LowQualFinSF   1460 non-null   int64  \n",
      " 46  GrLivArea      1460 non-null   int64  \n",
      " 47  BsmtFullBath   1460 non-null   int64  \n",
      " 48  BsmtHalfBath   1460 non-null   int64  \n",
      " 49  FullBath       1460 non-null   int64  \n",
      " 50  HalfBath       1460 non-null   int64  \n",
      " 51  BedroomAbvGr   1460 non-null   int64  \n",
      " 52  KitchenAbvGr   1460 non-null   int64  \n",
      " 53  KitchenQual    1460 non-null   int64  \n",
      " 54  TotRmsAbvGrd   1460 non-null   int64  \n",
      " 55  Functional     1460 non-null   int64  \n",
      " 56  Fireplaces     1460 non-null   int64  \n",
      " 57  FireplaceQu    1460 non-null   int64  \n",
      " 58  GarageType     1460 non-null   int64  \n",
      " 59  GarageYrBlt    1460 non-null   float64\n",
      " 60  GarageFinish   1460 non-null   int64  \n",
      " 61  GarageCars     1460 non-null   int64  \n",
      " 62  GarageArea     1460 non-null   int64  \n",
      " 63  GarageQual     1460 non-null   int64  \n",
      " 64  GarageCond     1460 non-null   int64  \n",
      " 65  PavedDrive     1460 non-null   int64  \n",
      " 66  WoodDeckSF     1460 non-null   int64  \n",
      " 67  OpenPorchSF    1460 non-null   int64  \n",
      " 68  EnclosedPorch  1460 non-null   int64  \n",
      " 69  3SsnPorch      1460 non-null   int64  \n",
      " 70  ScreenPorch    1460 non-null   int64  \n",
      " 71  PoolArea       1460 non-null   int64  \n",
      " 72  PoolQC         1460 non-null   int64  \n",
      " 73  Fence          1460 non-null   int64  \n",
      " 74  MiscFeature    1460 non-null   int64  \n",
      " 75  MiscVal        1460 non-null   int64  \n",
      " 76  MoSold         1460 non-null   int64  \n",
      " 77  YrSold         1460 non-null   int64  \n",
      " 78  SaleType       1460 non-null   int64  \n",
      " 79  SaleCondition  1460 non-null   int64  \n",
      " 80  SalePrice      1460 non-null   int64  \n",
      "dtypes: float64(3), int64(78)\n",
      "memory usage: 924.0 KB\n"
     ]
    }
   ],
   "source": [
    "train_data.info()"
   ]
  },
  {
   "cell_type": "code",
   "execution_count": 9,
   "metadata": {
    "scrolled": true
   },
   "outputs": [
    {
     "data": {
      "text/html": [
       "<div>\n",
       "<style scoped>\n",
       "    .dataframe tbody tr th:only-of-type {\n",
       "        vertical-align: middle;\n",
       "    }\n",
       "\n",
       "    .dataframe tbody tr th {\n",
       "        vertical-align: top;\n",
       "    }\n",
       "\n",
       "    .dataframe thead th {\n",
       "        text-align: right;\n",
       "    }\n",
       "</style>\n",
       "<table border=\"1\" class=\"dataframe\">\n",
       "  <thead>\n",
       "    <tr style=\"text-align: right;\">\n",
       "      <th></th>\n",
       "      <th>Id</th>\n",
       "      <th>MSSubClass</th>\n",
       "      <th>MSZoning</th>\n",
       "      <th>LotFrontage</th>\n",
       "      <th>LotArea</th>\n",
       "      <th>Street</th>\n",
       "      <th>Alley</th>\n",
       "      <th>LotShape</th>\n",
       "      <th>LandContour</th>\n",
       "      <th>Utilities</th>\n",
       "      <th>...</th>\n",
       "      <th>PoolArea</th>\n",
       "      <th>PoolQC</th>\n",
       "      <th>Fence</th>\n",
       "      <th>MiscFeature</th>\n",
       "      <th>MiscVal</th>\n",
       "      <th>MoSold</th>\n",
       "      <th>YrSold</th>\n",
       "      <th>SaleType</th>\n",
       "      <th>SaleCondition</th>\n",
       "      <th>SalePrice</th>\n",
       "    </tr>\n",
       "  </thead>\n",
       "  <tbody>\n",
       "    <tr>\n",
       "      <th>count</th>\n",
       "      <td>1460.000000</td>\n",
       "      <td>1460.000000</td>\n",
       "      <td>1460.000000</td>\n",
       "      <td>1460.000000</td>\n",
       "      <td>1460.000000</td>\n",
       "      <td>1460.000000</td>\n",
       "      <td>1460.000000</td>\n",
       "      <td>1460.000000</td>\n",
       "      <td>1460.000000</td>\n",
       "      <td>1460.000000</td>\n",
       "      <td>...</td>\n",
       "      <td>1460.000000</td>\n",
       "      <td>1460.000000</td>\n",
       "      <td>1460.000000</td>\n",
       "      <td>1460.000000</td>\n",
       "      <td>1460.000000</td>\n",
       "      <td>1460.000000</td>\n",
       "      <td>1460.000000</td>\n",
       "      <td>1460.000000</td>\n",
       "      <td>1460.000000</td>\n",
       "      <td>1460.000000</td>\n",
       "    </tr>\n",
       "    <tr>\n",
       "      <th>mean</th>\n",
       "      <td>730.500000</td>\n",
       "      <td>56.897260</td>\n",
       "      <td>3.028767</td>\n",
       "      <td>68.267123</td>\n",
       "      <td>10516.828082</td>\n",
       "      <td>0.995890</td>\n",
       "      <td>0.993836</td>\n",
       "      <td>1.942466</td>\n",
       "      <td>2.777397</td>\n",
       "      <td>0.000685</td>\n",
       "      <td>...</td>\n",
       "      <td>2.758904</td>\n",
       "      <td>2.991096</td>\n",
       "      <td>3.504795</td>\n",
       "      <td>1.069178</td>\n",
       "      <td>43.489041</td>\n",
       "      <td>6.321918</td>\n",
       "      <td>2007.815753</td>\n",
       "      <td>7.513014</td>\n",
       "      <td>3.770548</td>\n",
       "      <td>180921.195890</td>\n",
       "    </tr>\n",
       "    <tr>\n",
       "      <th>std</th>\n",
       "      <td>421.610009</td>\n",
       "      <td>42.300571</td>\n",
       "      <td>0.632017</td>\n",
       "      <td>22.356355</td>\n",
       "      <td>9981.264932</td>\n",
       "      <td>0.063996</td>\n",
       "      <td>0.249667</td>\n",
       "      <td>1.409156</td>\n",
       "      <td>0.707666</td>\n",
       "      <td>0.026171</td>\n",
       "      <td>...</td>\n",
       "      <td>40.177307</td>\n",
       "      <td>0.140703</td>\n",
       "      <td>1.082912</td>\n",
       "      <td>0.372102</td>\n",
       "      <td>496.123024</td>\n",
       "      <td>2.703626</td>\n",
       "      <td>1.328095</td>\n",
       "      <td>1.552100</td>\n",
       "      <td>1.100854</td>\n",
       "      <td>79442.502883</td>\n",
       "    </tr>\n",
       "    <tr>\n",
       "      <th>min</th>\n",
       "      <td>1.000000</td>\n",
       "      <td>20.000000</td>\n",
       "      <td>0.000000</td>\n",
       "      <td>21.000000</td>\n",
       "      <td>1300.000000</td>\n",
       "      <td>0.000000</td>\n",
       "      <td>0.000000</td>\n",
       "      <td>0.000000</td>\n",
       "      <td>0.000000</td>\n",
       "      <td>0.000000</td>\n",
       "      <td>...</td>\n",
       "      <td>0.000000</td>\n",
       "      <td>0.000000</td>\n",
       "      <td>0.000000</td>\n",
       "      <td>0.000000</td>\n",
       "      <td>0.000000</td>\n",
       "      <td>1.000000</td>\n",
       "      <td>2006.000000</td>\n",
       "      <td>0.000000</td>\n",
       "      <td>0.000000</td>\n",
       "      <td>34900.000000</td>\n",
       "    </tr>\n",
       "    <tr>\n",
       "      <th>25%</th>\n",
       "      <td>365.750000</td>\n",
       "      <td>20.000000</td>\n",
       "      <td>3.000000</td>\n",
       "      <td>60.000000</td>\n",
       "      <td>7553.500000</td>\n",
       "      <td>1.000000</td>\n",
       "      <td>1.000000</td>\n",
       "      <td>0.000000</td>\n",
       "      <td>3.000000</td>\n",
       "      <td>0.000000</td>\n",
       "      <td>...</td>\n",
       "      <td>0.000000</td>\n",
       "      <td>3.000000</td>\n",
       "      <td>4.000000</td>\n",
       "      <td>1.000000</td>\n",
       "      <td>0.000000</td>\n",
       "      <td>5.000000</td>\n",
       "      <td>2007.000000</td>\n",
       "      <td>8.000000</td>\n",
       "      <td>4.000000</td>\n",
       "      <td>129975.000000</td>\n",
       "    </tr>\n",
       "    <tr>\n",
       "      <th>50%</th>\n",
       "      <td>730.500000</td>\n",
       "      <td>50.000000</td>\n",
       "      <td>3.000000</td>\n",
       "      <td>63.000000</td>\n",
       "      <td>9478.500000</td>\n",
       "      <td>1.000000</td>\n",
       "      <td>1.000000</td>\n",
       "      <td>3.000000</td>\n",
       "      <td>3.000000</td>\n",
       "      <td>0.000000</td>\n",
       "      <td>...</td>\n",
       "      <td>0.000000</td>\n",
       "      <td>3.000000</td>\n",
       "      <td>4.000000</td>\n",
       "      <td>1.000000</td>\n",
       "      <td>0.000000</td>\n",
       "      <td>6.000000</td>\n",
       "      <td>2008.000000</td>\n",
       "      <td>8.000000</td>\n",
       "      <td>4.000000</td>\n",
       "      <td>163000.000000</td>\n",
       "    </tr>\n",
       "    <tr>\n",
       "      <th>75%</th>\n",
       "      <td>1095.250000</td>\n",
       "      <td>70.000000</td>\n",
       "      <td>3.000000</td>\n",
       "      <td>79.000000</td>\n",
       "      <td>11601.500000</td>\n",
       "      <td>1.000000</td>\n",
       "      <td>1.000000</td>\n",
       "      <td>3.000000</td>\n",
       "      <td>3.000000</td>\n",
       "      <td>0.000000</td>\n",
       "      <td>...</td>\n",
       "      <td>0.000000</td>\n",
       "      <td>3.000000</td>\n",
       "      <td>4.000000</td>\n",
       "      <td>1.000000</td>\n",
       "      <td>0.000000</td>\n",
       "      <td>8.000000</td>\n",
       "      <td>2009.000000</td>\n",
       "      <td>8.000000</td>\n",
       "      <td>4.000000</td>\n",
       "      <td>214000.000000</td>\n",
       "    </tr>\n",
       "    <tr>\n",
       "      <th>max</th>\n",
       "      <td>1460.000000</td>\n",
       "      <td>190.000000</td>\n",
       "      <td>4.000000</td>\n",
       "      <td>313.000000</td>\n",
       "      <td>215245.000000</td>\n",
       "      <td>1.000000</td>\n",
       "      <td>2.000000</td>\n",
       "      <td>3.000000</td>\n",
       "      <td>3.000000</td>\n",
       "      <td>1.000000</td>\n",
       "      <td>...</td>\n",
       "      <td>738.000000</td>\n",
       "      <td>3.000000</td>\n",
       "      <td>4.000000</td>\n",
       "      <td>4.000000</td>\n",
       "      <td>15500.000000</td>\n",
       "      <td>12.000000</td>\n",
       "      <td>2010.000000</td>\n",
       "      <td>8.000000</td>\n",
       "      <td>5.000000</td>\n",
       "      <td>755000.000000</td>\n",
       "    </tr>\n",
       "  </tbody>\n",
       "</table>\n",
       "<p>8 rows × 81 columns</p>\n",
       "</div>"
      ],
      "text/plain": [
       "                Id   MSSubClass     MSZoning  LotFrontage        LotArea  \\\n",
       "count  1460.000000  1460.000000  1460.000000  1460.000000    1460.000000   \n",
       "mean    730.500000    56.897260     3.028767    68.267123   10516.828082   \n",
       "std     421.610009    42.300571     0.632017    22.356355    9981.264932   \n",
       "min       1.000000    20.000000     0.000000    21.000000    1300.000000   \n",
       "25%     365.750000    20.000000     3.000000    60.000000    7553.500000   \n",
       "50%     730.500000    50.000000     3.000000    63.000000    9478.500000   \n",
       "75%    1095.250000    70.000000     3.000000    79.000000   11601.500000   \n",
       "max    1460.000000   190.000000     4.000000   313.000000  215245.000000   \n",
       "\n",
       "            Street        Alley     LotShape  LandContour    Utilities  ...  \\\n",
       "count  1460.000000  1460.000000  1460.000000  1460.000000  1460.000000  ...   \n",
       "mean      0.995890     0.993836     1.942466     2.777397     0.000685  ...   \n",
       "std       0.063996     0.249667     1.409156     0.707666     0.026171  ...   \n",
       "min       0.000000     0.000000     0.000000     0.000000     0.000000  ...   \n",
       "25%       1.000000     1.000000     0.000000     3.000000     0.000000  ...   \n",
       "50%       1.000000     1.000000     3.000000     3.000000     0.000000  ...   \n",
       "75%       1.000000     1.000000     3.000000     3.000000     0.000000  ...   \n",
       "max       1.000000     2.000000     3.000000     3.000000     1.000000  ...   \n",
       "\n",
       "          PoolArea       PoolQC        Fence  MiscFeature       MiscVal  \\\n",
       "count  1460.000000  1460.000000  1460.000000  1460.000000   1460.000000   \n",
       "mean      2.758904     2.991096     3.504795     1.069178     43.489041   \n",
       "std      40.177307     0.140703     1.082912     0.372102    496.123024   \n",
       "min       0.000000     0.000000     0.000000     0.000000      0.000000   \n",
       "25%       0.000000     3.000000     4.000000     1.000000      0.000000   \n",
       "50%       0.000000     3.000000     4.000000     1.000000      0.000000   \n",
       "75%       0.000000     3.000000     4.000000     1.000000      0.000000   \n",
       "max     738.000000     3.000000     4.000000     4.000000  15500.000000   \n",
       "\n",
       "            MoSold       YrSold     SaleType  SaleCondition      SalePrice  \n",
       "count  1460.000000  1460.000000  1460.000000    1460.000000    1460.000000  \n",
       "mean      6.321918  2007.815753     7.513014       3.770548  180921.195890  \n",
       "std       2.703626     1.328095     1.552100       1.100854   79442.502883  \n",
       "min       1.000000  2006.000000     0.000000       0.000000   34900.000000  \n",
       "25%       5.000000  2007.000000     8.000000       4.000000  129975.000000  \n",
       "50%       6.000000  2008.000000     8.000000       4.000000  163000.000000  \n",
       "75%       8.000000  2009.000000     8.000000       4.000000  214000.000000  \n",
       "max      12.000000  2010.000000     8.000000       5.000000  755000.000000  \n",
       "\n",
       "[8 rows x 81 columns]"
      ]
     },
     "execution_count": 9,
     "metadata": {},
     "output_type": "execute_result"
    }
   ],
   "source": [
    "train_data.describe()"
   ]
  },
  {
   "cell_type": "markdown",
   "metadata": {},
   "source": [
    "### Handling Outliers\n",
    "* There was one outlier that did not make sense which was the LotArea that had a square footage of 215245.000000 square feet which is massive"
   ]
  },
  {
   "cell_type": "code",
   "execution_count": 10,
   "metadata": {},
   "outputs": [
    {
     "name": "stdout",
     "output_type": "stream",
     "text": [
      "7553.5 11601.5 4048.0\n",
      "(1391, 81)\n"
     ]
    }
   ],
   "source": [
    "upper_lim = train_data['LotArea'].quantile(.95)\n",
    "lower_lim = train_data['LotArea'].quantile(.05) # Top 5% means here the values that are out of the 95th percentile of data\n",
    "train_data[(train_data['LotArea'] < upper_lim) & (train_data['LotArea'] > lower_lim)]\n",
    "Q1 = train_data['LotArea'].quantile(0.25)\n",
    "Q3 = train_data['LotArea'].quantile(0.75)\n",
    "IQR = Q3 - Q1\n",
    "print(Q1, Q3, IQR)\n",
    "train_data = train_data[(train_data['LotArea'] < (Q3 + 1.5 * IQR)) & (train_data['LotArea'] > (Q1 - 1.5 * IQR))]\n",
    "print(train_data.shape)"
   ]
  },
  {
   "cell_type": "markdown",
   "metadata": {},
   "source": [
    "##### I want to make sure that the SalePrice (Target Value) is saved prior to the feature selection stage and as well as the original dataframe so I can chose which features I want to engineer"
   ]
  },
  {
   "cell_type": "code",
   "execution_count": 11,
   "metadata": {},
   "outputs": [],
   "source": [
    "sp = pd.DataFrame(train_data[\"SalePrice\"])\n",
    "train_data_df = pd.read_csv(\"data/train.csv\")"
   ]
  },
  {
   "cell_type": "markdown",
   "metadata": {},
   "source": [
    "### Feature Selection\n",
    "* Use the feature engineering techniques to create 10 new features and give your rationals. It can be common sense, or statistics or by any techniques in last class."
   ]
  },
  {
   "cell_type": "markdown",
   "metadata": {},
   "source": [
    "##### Spearman Method (Statistical)\n",
    "* The Spearman correlation between two variables is equal to the Pearson correlation between the rank values of those two variables; while Pearson's correlation assesses linear relationships, Spearman's correlation assesses monotonic relationships (whether linear or not)."
   ]
  },
  {
   "cell_type": "code",
   "execution_count": 12,
   "metadata": {},
   "outputs": [
    {
     "data": {
      "text/plain": [
       "<AxesSubplot:>"
      ]
     },
     "execution_count": 12,
     "metadata": {},
     "output_type": "execute_result"
    },
    {
     "data": {
      "image/png": "[encoded data removed]",
      "text/plain": [
       "<Figure size 1440x1440 with 2 Axes>"
      ]
     },
     "metadata": {
      "needs_background": "light"
     },
     "output_type": "display_data"
    }
   ],
   "source": [
    "%matplotlib inline\n",
    "import matplotlib.pyplot as plt\n",
    "import seaborn as sns\n",
    "correlation_matrix = train_data.corr(method='spearman')\n",
    "mask = np.triu(np.ones_like(correlation_matrix, dtype=bool))\n",
    "f, ax = plt.subplots(figsize=(20, 20))\n",
    "cmap = sns.diverging_palette(230, 20, as_cmap=True)\n",
    "sns.heatmap(correlation_matrix, mask=mask, cmap=cmap, vmax=.5, center=0, square=True, linewidths=.5, cbar_kws={\"shrink\": .5})"
   ]
  },
  {
   "cell_type": "markdown",
   "metadata": {},
   "source": [
    "##### Spearman Model best features"
   ]
  },
  {
   "cell_type": "code",
   "execution_count": 13,
   "metadata": {},
   "outputs": [
    {
     "data": {
      "text/plain": [
       "['LotFrontage',\n",
       " 'LotArea',\n",
       " 'OverallQual',\n",
       " 'YearBuilt',\n",
       " 'YearRemodAdd',\n",
       " 'MasVnrArea',\n",
       " 'Foundation',\n",
       " 'TotalBsmtSF',\n",
       " 'CentralAir',\n",
       " '1stFlrSF',\n",
       " 'GrLivArea',\n",
       " 'FullBath',\n",
       " 'HalfBath',\n",
       " 'TotRmsAbvGrd',\n",
       " 'Fireplaces',\n",
       " 'GarageYrBlt',\n",
       " 'GarageCars',\n",
       " 'GarageArea',\n",
       " 'GarageQual',\n",
       " 'GarageCond',\n",
       " 'WoodDeckSF',\n",
       " 'OpenPorchSF',\n",
       " 'SaleCondition']"
      ]
     },
     "execution_count": 13,
     "metadata": {},
     "output_type": "execute_result"
    }
   ],
   "source": [
    "indecies = np.where(correlation_matrix['SalePrice'] > 0.3)\n",
    "improved_features = correlation_matrix.iloc[indecies].drop('SalePrice')\n",
    "improved_features['SalePrice']\n",
    "new_features_spearman = list(improved_features.index)\n",
    "new_features_spearman"
   ]
  },
  {
   "cell_type": "markdown",
   "metadata": {},
   "source": [
    "##### Selecting feature based on Statistics (Scoring Function)\n",
    "* Linear model for testing the individual effect of each of many regressors. This is a scoring function to be used in a feature selection procedure.\n",
    "1. The correlation between each regressor and the target is computed, that is, ((X[:, i] - mean(X[:, i])) * (y - mean_y)) / (std(X[:, i]) * std(y)).\n",
    "\n",
    "2. It is converted to an F score then to a p-value."
   ]
  },
  {
   "cell_type": "code",
   "execution_count": 14,
   "metadata": {},
   "outputs": [
    {
     "data": {
      "text/html": [
       "<div>\n",
       "<style scoped>\n",
       "    .dataframe tbody tr th:only-of-type {\n",
       "        vertical-align: middle;\n",
       "    }\n",
       "\n",
       "    .dataframe tbody tr th {\n",
       "        vertical-align: top;\n",
       "    }\n",
       "\n",
       "    .dataframe thead th {\n",
       "        text-align: right;\n",
       "    }\n",
       "</style>\n",
       "<table border=\"1\" class=\"dataframe\">\n",
       "  <thead>\n",
       "    <tr style=\"text-align: right;\">\n",
       "      <th></th>\n",
       "      <th>ftr</th>\n",
       "      <th>score</th>\n",
       "      <th>pval</th>\n",
       "    </tr>\n",
       "  </thead>\n",
       "  <tbody>\n",
       "    <tr>\n",
       "      <th>0</th>\n",
       "      <td>MSSubClass</td>\n",
       "      <td>10.247615</td>\n",
       "      <td>1.399598e-03</td>\n",
       "    </tr>\n",
       "    <tr>\n",
       "      <th>1</th>\n",
       "      <td>MSZoning</td>\n",
       "      <td>50.718016</td>\n",
       "      <td>1.705808e-12</td>\n",
       "    </tr>\n",
       "    <tr>\n",
       "      <th>2</th>\n",
       "      <td>LotFrontage</td>\n",
       "      <td>241.217868</td>\n",
       "      <td>2.790973e-50</td>\n",
       "    </tr>\n",
       "    <tr>\n",
       "      <th>3</th>\n",
       "      <td>LotArea</td>\n",
       "      <td>315.881102</td>\n",
       "      <td>7.769502e-64</td>\n",
       "    </tr>\n",
       "    <tr>\n",
       "      <th>4</th>\n",
       "      <td>Street</td>\n",
       "      <td>3.638880</td>\n",
       "      <td>5.665096e-02</td>\n",
       "    </tr>\n",
       "  </tbody>\n",
       "</table>\n",
       "</div>"
      ],
      "text/plain": [
       "           ftr       score          pval\n",
       "0   MSSubClass   10.247615  1.399598e-03\n",
       "1     MSZoning   50.718016  1.705808e-12\n",
       "2  LotFrontage  241.217868  2.790973e-50\n",
       "3      LotArea  315.881102  7.769502e-64\n",
       "4       Street    3.638880  5.665096e-02"
      ]
     },
     "execution_count": 14,
     "metadata": {},
     "output_type": "execute_result"
    }
   ],
   "source": [
    "from sklearn.feature_selection import SelectKBest, f_regression\n",
    "X = train_data.drop([\"Id\",\"SalePrice\"],axis=1)\n",
    "y = train_data[\"SalePrice\"]\n",
    "\n",
    "#Select the top features in the dataset\n",
    "feature_selector = SelectKBest(f_regression,k=20)\n",
    "feature_selector.fit(X, y)\n",
    "\n",
    "f_scores = pd.DataFrame(list(zip(X.columns, feature_selector.scores_, feature_selector.pvalues_)),\n",
    "                           columns=['ftr', 'score', 'pval']).dropna(axis=0)\n",
    "f_scores = pd.DataFrame(f_scores)\n",
    "f_scores.head()"
   ]
  },
  {
   "cell_type": "markdown",
   "metadata": {},
   "source": [
    "##### Scoring Function best features"
   ]
  },
  {
   "cell_type": "code",
   "execution_count": 15,
   "metadata": {},
   "outputs": [],
   "source": [
    "kbest = np.asarray(X.columns)[feature_selector.get_support()]"
   ]
  },
  {
   "cell_type": "code",
   "execution_count": 16,
   "metadata": {},
   "outputs": [
    {
     "data": {
      "text/plain": [
       "array(['LotArea', 'OverallQual', 'YearBuilt', 'YearRemodAdd',\n",
       "       'MasVnrArea', 'ExterQual', 'BsmtQual', 'TotalBsmtSF', 'HeatingQC',\n",
       "       '1stFlrSF', 'GrLivArea', 'FullBath', 'KitchenQual', 'TotRmsAbvGrd',\n",
       "       'Fireplaces', 'GarageType', 'GarageYrBlt', 'GarageFinish',\n",
       "       'GarageCars', 'GarageArea'], dtype=object)"
      ]
     },
     "execution_count": 16,
     "metadata": {},
     "output_type": "execute_result"
    }
   ],
   "source": [
    "kbest"
   ]
  },
  {
   "cell_type": "markdown",
   "metadata": {},
   "source": [
    "##### Selecting features based Random Forest Feature Importance\n",
    "* The impurity-based feature importances.\n",
    "\n",
    "* The higher, the more important the feature. The importance of a feature is computed as the (normalized) total reduction of the criterion brought by that feature. It is also known as the Gini importance."
   ]
  },
  {
   "cell_type": "code",
   "execution_count": 17,
   "metadata": {},
   "outputs": [
    {
     "data": {
      "image/png": "[encoded data removed]",
      "text/plain": [
       "<Figure size 432x288 with 1 Axes>"
      ]
     },
     "metadata": {
      "needs_background": "light"
     },
     "output_type": "display_data"
    }
   ],
   "source": [
    "from sklearn.ensemble import RandomForestRegressor\n",
    "%matplotlib inline\n",
    "import matplotlib.pyplot as plt\n",
    "x = train_data.drop([\"Id\",\"SalePrice\"],axis=1).values\n",
    "y = train_data[\"SalePrice\"]\n",
    "model = RandomForestRegressor(n_estimators=100)\n",
    "model.fit(x,y)\n",
    "dict_importantance = dict(reversed(sorted(zip(model.feature_importances_, train_data.columns.values))))\n",
    "features = train_data.drop([\"SalePrice\"],axis=1).columns\n",
    "importances = model.feature_importances_\n",
    "indices = np.argsort(importances)[-20:]  # top 10 features\n",
    "plt.title('Feature Importances')\n",
    "plt.barh(range(len(indices)), importances[indices], color='b', align='center')\n",
    "plt.yticks(range(len(indices)), [features[i] for i in indices])\n",
    "plt.xlabel('Relative Importance')\n",
    "plt.show()"
   ]
  },
  {
   "cell_type": "markdown",
   "metadata": {},
   "source": [
    "##### Random Forest best features"
   ]
  },
  {
   "cell_type": "code",
   "execution_count": 18,
   "metadata": {},
   "outputs": [
    {
     "data": {
      "text/plain": [
       "['MSZoning',\n",
       " 'OverallQual',\n",
       " 'WoodDeckSF',\n",
       " 'MasVnrType',\n",
       " 'GarageType',\n",
       " '1stFlrSF',\n",
       " 'BsmtFinSF2',\n",
       " 'FireplaceQu',\n",
       " 'Foundation',\n",
       " 'YearBuilt',\n",
       " 'BsmtHalfBath',\n",
       " 'LotFrontage',\n",
       " 'OverallCond',\n",
       " 'GarageFinish',\n",
       " 'GarageCars',\n",
       " 'Electrical',\n",
       " 'BsmtUnfSF',\n",
       " 'BsmtFinType1',\n",
       " 'LowQualFinSF',\n",
       " 'HouseStyle']"
      ]
     },
     "execution_count": 18,
     "metadata": {},
     "output_type": "execute_result"
    }
   ],
   "source": [
    "random_for_ftr = [features[i] for i in indices]\n",
    "random_for_ftr"
   ]
  },
  {
   "cell_type": "markdown",
   "metadata": {},
   "source": [
    "##### The set of best features from the feature selection scoring functions that were used above"
   ]
  },
  {
   "cell_type": "code",
   "execution_count": 19,
   "metadata": {},
   "outputs": [],
   "source": [
    "best = set(random_for_ftr).union(set(kbest)).union(set(new_features_spearman))"
   ]
  },
  {
   "cell_type": "markdown",
   "metadata": {},
   "source": [
    "##### Taking a look at the column names"
   ]
  },
  {
   "cell_type": "code",
   "execution_count": 20,
   "metadata": {},
   "outputs": [
    {
     "data": {
      "text/plain": [
       "Index(['OverallQual', 'LotArea', 'Foundation', 'BsmtUnfSF', 'TotRmsAbvGrd',\n",
       "       'GarageFinish', 'FireplaceQu', 'HalfBath', 'GarageYrBlt', 'KitchenQual',\n",
       "       'BsmtQual', 'MasVnrArea', 'ExterQual', 'TotalBsmtSF', 'Fireplaces',\n",
       "       'OpenPorchSF', 'LotFrontage', 'HouseStyle', 'MasVnrType', 'BsmtFinSF2',\n",
       "       '1stFlrSF', 'WoodDeckSF', 'GarageCond', 'GarageType', 'FullBath',\n",
       "       'GarageCars', 'HeatingQC', 'GarageQual', 'MSZoning', 'BsmtHalfBath',\n",
       "       'YearRemodAdd', 'SaleCondition', 'BsmtFinType1', 'LowQualFinSF',\n",
       "       'Electrical', 'GarageArea', 'YearBuilt', 'CentralAir', 'GrLivArea',\n",
       "       'OverallCond'],\n",
       "      dtype='object')"
      ]
     },
     "execution_count": 20,
     "metadata": {},
     "output_type": "execute_result"
    }
   ],
   "source": [
    "train_data[best].columns"
   ]
  },
  {
   "cell_type": "markdown",
   "metadata": {},
   "source": [
    "##### I want to see only the categorical column names where they intersect with the features that are chosen from the varible named \"best\""
   ]
  },
  {
   "cell_type": "code",
   "execution_count": 21,
   "metadata": {},
   "outputs": [],
   "source": [
    "feature = set(train_data[best].columns).intersection(set(categorical_data_column_names))\n",
    "feature_test = set(test_data[best].columns).difference(set(test_data[best].describe().columns))\n",
    "train_data = train_data[best]\n",
    "train_data_old = train_data[best].join(sp)"
   ]
  },
  {
   "cell_type": "code",
   "execution_count": 22,
   "metadata": {},
   "outputs": [
    {
     "data": {
      "text/html": [
       "<div>\n",
       "<style scoped>\n",
       "    .dataframe tbody tr th:only-of-type {\n",
       "        vertical-align: middle;\n",
       "    }\n",
       "\n",
       "    .dataframe tbody tr th {\n",
       "        vertical-align: top;\n",
       "    }\n",
       "\n",
       "    .dataframe thead th {\n",
       "        text-align: right;\n",
       "    }\n",
       "</style>\n",
       "<table border=\"1\" class=\"dataframe\">\n",
       "  <thead>\n",
       "    <tr style=\"text-align: right;\">\n",
       "      <th></th>\n",
       "      <th>OverallQual</th>\n",
       "      <th>LotArea</th>\n",
       "      <th>Foundation</th>\n",
       "      <th>BsmtUnfSF</th>\n",
       "      <th>TotRmsAbvGrd</th>\n",
       "      <th>GarageFinish</th>\n",
       "      <th>FireplaceQu</th>\n",
       "      <th>HalfBath</th>\n",
       "      <th>GarageYrBlt</th>\n",
       "      <th>KitchenQual</th>\n",
       "      <th>...</th>\n",
       "      <th>YearRemodAdd</th>\n",
       "      <th>SaleCondition</th>\n",
       "      <th>BsmtFinType1</th>\n",
       "      <th>LowQualFinSF</th>\n",
       "      <th>Electrical</th>\n",
       "      <th>GarageArea</th>\n",
       "      <th>YearBuilt</th>\n",
       "      <th>CentralAir</th>\n",
       "      <th>GrLivArea</th>\n",
       "      <th>OverallCond</th>\n",
       "    </tr>\n",
       "  </thead>\n",
       "  <tbody>\n",
       "    <tr>\n",
       "      <th>0</th>\n",
       "      <td>7</td>\n",
       "      <td>8450</td>\n",
       "      <td>2</td>\n",
       "      <td>150</td>\n",
       "      <td>8</td>\n",
       "      <td>2</td>\n",
       "      <td>3</td>\n",
       "      <td>1</td>\n",
       "      <td>2003.0</td>\n",
       "      <td>2</td>\n",
       "      <td>...</td>\n",
       "      <td>2003</td>\n",
       "      <td>4</td>\n",
       "      <td>2</td>\n",
       "      <td>0</td>\n",
       "      <td>5</td>\n",
       "      <td>548</td>\n",
       "      <td>2003</td>\n",
       "      <td>1</td>\n",
       "      <td>1710</td>\n",
       "      <td>5</td>\n",
       "    </tr>\n",
       "    <tr>\n",
       "      <th>1</th>\n",
       "      <td>6</td>\n",
       "      <td>9600</td>\n",
       "      <td>1</td>\n",
       "      <td>284</td>\n",
       "      <td>6</td>\n",
       "      <td>2</td>\n",
       "      <td>5</td>\n",
       "      <td>0</td>\n",
       "      <td>1976.0</td>\n",
       "      <td>3</td>\n",
       "      <td>...</td>\n",
       "      <td>1976</td>\n",
       "      <td>4</td>\n",
       "      <td>0</td>\n",
       "      <td>0</td>\n",
       "      <td>5</td>\n",
       "      <td>460</td>\n",
       "      <td>1976</td>\n",
       "      <td>1</td>\n",
       "      <td>1262</td>\n",
       "      <td>8</td>\n",
       "    </tr>\n",
       "    <tr>\n",
       "      <th>2</th>\n",
       "      <td>7</td>\n",
       "      <td>11250</td>\n",
       "      <td>2</td>\n",
       "      <td>434</td>\n",
       "      <td>6</td>\n",
       "      <td>2</td>\n",
       "      <td>5</td>\n",
       "      <td>1</td>\n",
       "      <td>2001.0</td>\n",
       "      <td>2</td>\n",
       "      <td>...</td>\n",
       "      <td>2002</td>\n",
       "      <td>4</td>\n",
       "      <td>2</td>\n",
       "      <td>0</td>\n",
       "      <td>5</td>\n",
       "      <td>608</td>\n",
       "      <td>2001</td>\n",
       "      <td>1</td>\n",
       "      <td>1786</td>\n",
       "      <td>5</td>\n",
       "    </tr>\n",
       "    <tr>\n",
       "      <th>3</th>\n",
       "      <td>7</td>\n",
       "      <td>9550</td>\n",
       "      <td>0</td>\n",
       "      <td>540</td>\n",
       "      <td>7</td>\n",
       "      <td>3</td>\n",
       "      <td>2</td>\n",
       "      <td>0</td>\n",
       "      <td>1998.0</td>\n",
       "      <td>2</td>\n",
       "      <td>...</td>\n",
       "      <td>1970</td>\n",
       "      <td>0</td>\n",
       "      <td>0</td>\n",
       "      <td>0</td>\n",
       "      <td>5</td>\n",
       "      <td>642</td>\n",
       "      <td>1915</td>\n",
       "      <td>1</td>\n",
       "      <td>1717</td>\n",
       "      <td>5</td>\n",
       "    </tr>\n",
       "    <tr>\n",
       "      <th>4</th>\n",
       "      <td>8</td>\n",
       "      <td>14260</td>\n",
       "      <td>2</td>\n",
       "      <td>490</td>\n",
       "      <td>9</td>\n",
       "      <td>2</td>\n",
       "      <td>5</td>\n",
       "      <td>1</td>\n",
       "      <td>2000.0</td>\n",
       "      <td>2</td>\n",
       "      <td>...</td>\n",
       "      <td>2000</td>\n",
       "      <td>4</td>\n",
       "      <td>2</td>\n",
       "      <td>0</td>\n",
       "      <td>5</td>\n",
       "      <td>836</td>\n",
       "      <td>2000</td>\n",
       "      <td>1</td>\n",
       "      <td>2198</td>\n",
       "      <td>5</td>\n",
       "    </tr>\n",
       "  </tbody>\n",
       "</table>\n",
       "<p>5 rows × 40 columns</p>\n",
       "</div>"
      ],
      "text/plain": [
       "   OverallQual  LotArea  Foundation  BsmtUnfSF  TotRmsAbvGrd  GarageFinish  \\\n",
       "0            7     8450           2        150             8             2   \n",
       "1            6     9600           1        284             6             2   \n",
       "2            7    11250           2        434             6             2   \n",
       "3            7     9550           0        540             7             3   \n",
       "4            8    14260           2        490             9             2   \n",
       "\n",
       "   FireplaceQu  HalfBath  GarageYrBlt  KitchenQual  ...  YearRemodAdd  \\\n",
       "0            3         1       2003.0            2  ...          2003   \n",
       "1            5         0       1976.0            3  ...          1976   \n",
       "2            5         1       2001.0            2  ...          2002   \n",
       "3            2         0       1998.0            2  ...          1970   \n",
       "4            5         1       2000.0            2  ...          2000   \n",
       "\n",
       "   SaleCondition  BsmtFinType1  LowQualFinSF  Electrical  GarageArea  \\\n",
       "0              4             2             0           5         548   \n",
       "1              4             0             0           5         460   \n",
       "2              4             2             0           5         608   \n",
       "3              0             0             0           5         642   \n",
       "4              4             2             0           5         836   \n",
       "\n",
       "   YearBuilt  CentralAir  GrLivArea  OverallCond  \n",
       "0       2003           1       1710            5  \n",
       "1       1976           1       1262            8  \n",
       "2       2001           1       1786            5  \n",
       "3       1915           1       1717            5  \n",
       "4       2000           1       2198            5  \n",
       "\n",
       "[5 rows x 40 columns]"
      ]
     },
     "execution_count": 22,
     "metadata": {},
     "output_type": "execute_result"
    }
   ],
   "source": [
    "train_data.head()"
   ]
  },
  {
   "cell_type": "code",
   "execution_count": 23,
   "metadata": {},
   "outputs": [
    {
     "data": {
      "text/plain": [
       "(1391, 40)"
      ]
     },
     "execution_count": 23,
     "metadata": {},
     "output_type": "execute_result"
    }
   ],
   "source": [
    "train_data.shape"
   ]
  },
  {
   "cell_type": "markdown",
   "metadata": {},
   "source": [
    "## Feature Engineering"
   ]
  },
  {
   "cell_type": "markdown",
   "metadata": {},
   "source": [
    "##### Hot Encoding the categorical columns\n",
    "* Encode categorical features as a one-hot numeric array.\n",
    "* The reason why I want to encode the categorical values into Hot-Encoding is so that it would be easier for the model to read in the data"
   ]
  },
  {
   "cell_type": "code",
   "execution_count": 24,
   "metadata": {},
   "outputs": [
    {
     "data": {
      "text/plain": [
       "0"
      ]
     },
     "execution_count": 24,
     "metadata": {},
     "output_type": "execute_result"
    }
   ],
   "source": [
    "len(feature)"
   ]
  },
  {
   "cell_type": "markdown",
   "metadata": {},
   "source": [
    "##### ^ Technical that is more than 10 features I engineered"
   ]
  },
  {
   "cell_type": "code",
   "execution_count": 25,
   "metadata": {},
   "outputs": [
    {
     "data": {
      "text/html": [
       "<div>\n",
       "<style scoped>\n",
       "    .dataframe tbody tr th:only-of-type {\n",
       "        vertical-align: middle;\n",
       "    }\n",
       "\n",
       "    .dataframe tbody tr th {\n",
       "        vertical-align: top;\n",
       "    }\n",
       "\n",
       "    .dataframe thead th {\n",
       "        text-align: right;\n",
       "    }\n",
       "</style>\n",
       "<table border=\"1\" class=\"dataframe\">\n",
       "  <thead>\n",
       "    <tr style=\"text-align: right;\">\n",
       "      <th></th>\n",
       "      <th>OverallQual</th>\n",
       "      <th>LotArea</th>\n",
       "      <th>Foundation</th>\n",
       "      <th>BsmtUnfSF</th>\n",
       "      <th>TotRmsAbvGrd</th>\n",
       "      <th>GarageFinish</th>\n",
       "      <th>FireplaceQu</th>\n",
       "      <th>HalfBath</th>\n",
       "      <th>GarageYrBlt</th>\n",
       "      <th>KitchenQual</th>\n",
       "      <th>...</th>\n",
       "      <th>SaleCondition</th>\n",
       "      <th>BsmtFinType1</th>\n",
       "      <th>LowQualFinSF</th>\n",
       "      <th>Electrical</th>\n",
       "      <th>GarageArea</th>\n",
       "      <th>YearBuilt</th>\n",
       "      <th>CentralAir</th>\n",
       "      <th>GrLivArea</th>\n",
       "      <th>OverallCond</th>\n",
       "      <th>SalePrice</th>\n",
       "    </tr>\n",
       "  </thead>\n",
       "  <tbody>\n",
       "    <tr>\n",
       "      <th>0</th>\n",
       "      <td>7</td>\n",
       "      <td>8450</td>\n",
       "      <td>2</td>\n",
       "      <td>150</td>\n",
       "      <td>8</td>\n",
       "      <td>2</td>\n",
       "      <td>3</td>\n",
       "      <td>1</td>\n",
       "      <td>2003.0</td>\n",
       "      <td>2</td>\n",
       "      <td>...</td>\n",
       "      <td>4</td>\n",
       "      <td>2</td>\n",
       "      <td>0</td>\n",
       "      <td>5</td>\n",
       "      <td>548</td>\n",
       "      <td>2003</td>\n",
       "      <td>1</td>\n",
       "      <td>1710</td>\n",
       "      <td>5</td>\n",
       "      <td>208500</td>\n",
       "    </tr>\n",
       "    <tr>\n",
       "      <th>1</th>\n",
       "      <td>6</td>\n",
       "      <td>9600</td>\n",
       "      <td>1</td>\n",
       "      <td>284</td>\n",
       "      <td>6</td>\n",
       "      <td>2</td>\n",
       "      <td>5</td>\n",
       "      <td>0</td>\n",
       "      <td>1976.0</td>\n",
       "      <td>3</td>\n",
       "      <td>...</td>\n",
       "      <td>4</td>\n",
       "      <td>0</td>\n",
       "      <td>0</td>\n",
       "      <td>5</td>\n",
       "      <td>460</td>\n",
       "      <td>1976</td>\n",
       "      <td>1</td>\n",
       "      <td>1262</td>\n",
       "      <td>8</td>\n",
       "      <td>181500</td>\n",
       "    </tr>\n",
       "    <tr>\n",
       "      <th>2</th>\n",
       "      <td>7</td>\n",
       "      <td>11250</td>\n",
       "      <td>2</td>\n",
       "      <td>434</td>\n",
       "      <td>6</td>\n",
       "      <td>2</td>\n",
       "      <td>5</td>\n",
       "      <td>1</td>\n",
       "      <td>2001.0</td>\n",
       "      <td>2</td>\n",
       "      <td>...</td>\n",
       "      <td>4</td>\n",
       "      <td>2</td>\n",
       "      <td>0</td>\n",
       "      <td>5</td>\n",
       "      <td>608</td>\n",
       "      <td>2001</td>\n",
       "      <td>1</td>\n",
       "      <td>1786</td>\n",
       "      <td>5</td>\n",
       "      <td>223500</td>\n",
       "    </tr>\n",
       "    <tr>\n",
       "      <th>3</th>\n",
       "      <td>7</td>\n",
       "      <td>9550</td>\n",
       "      <td>0</td>\n",
       "      <td>540</td>\n",
       "      <td>7</td>\n",
       "      <td>3</td>\n",
       "      <td>2</td>\n",
       "      <td>0</td>\n",
       "      <td>1998.0</td>\n",
       "      <td>2</td>\n",
       "      <td>...</td>\n",
       "      <td>0</td>\n",
       "      <td>0</td>\n",
       "      <td>0</td>\n",
       "      <td>5</td>\n",
       "      <td>642</td>\n",
       "      <td>1915</td>\n",
       "      <td>1</td>\n",
       "      <td>1717</td>\n",
       "      <td>5</td>\n",
       "      <td>140000</td>\n",
       "    </tr>\n",
       "    <tr>\n",
       "      <th>4</th>\n",
       "      <td>8</td>\n",
       "      <td>14260</td>\n",
       "      <td>2</td>\n",
       "      <td>490</td>\n",
       "      <td>9</td>\n",
       "      <td>2</td>\n",
       "      <td>5</td>\n",
       "      <td>1</td>\n",
       "      <td>2000.0</td>\n",
       "      <td>2</td>\n",
       "      <td>...</td>\n",
       "      <td>4</td>\n",
       "      <td>2</td>\n",
       "      <td>0</td>\n",
       "      <td>5</td>\n",
       "      <td>836</td>\n",
       "      <td>2000</td>\n",
       "      <td>1</td>\n",
       "      <td>2198</td>\n",
       "      <td>5</td>\n",
       "      <td>250000</td>\n",
       "    </tr>\n",
       "  </tbody>\n",
       "</table>\n",
       "<p>5 rows × 41 columns</p>\n",
       "</div>"
      ],
      "text/plain": [
       "   OverallQual  LotArea  Foundation  BsmtUnfSF  TotRmsAbvGrd  GarageFinish  \\\n",
       "0            7     8450           2        150             8             2   \n",
       "1            6     9600           1        284             6             2   \n",
       "2            7    11250           2        434             6             2   \n",
       "3            7     9550           0        540             7             3   \n",
       "4            8    14260           2        490             9             2   \n",
       "\n",
       "   FireplaceQu  HalfBath  GarageYrBlt  KitchenQual  ...  SaleCondition  \\\n",
       "0            3         1       2003.0            2  ...              4   \n",
       "1            5         0       1976.0            3  ...              4   \n",
       "2            5         1       2001.0            2  ...              4   \n",
       "3            2         0       1998.0            2  ...              0   \n",
       "4            5         1       2000.0            2  ...              4   \n",
       "\n",
       "   BsmtFinType1  LowQualFinSF  Electrical  GarageArea  YearBuilt  CentralAir  \\\n",
       "0             2             0           5         548       2003           1   \n",
       "1             0             0           5         460       1976           1   \n",
       "2             2             0           5         608       2001           1   \n",
       "3             0             0           5         642       1915           1   \n",
       "4             2             0           5         836       2000           1   \n",
       "\n",
       "   GrLivArea  OverallCond  SalePrice  \n",
       "0       1710            5     208500  \n",
       "1       1262            8     181500  \n",
       "2       1786            5     223500  \n",
       "3       1717            5     140000  \n",
       "4       2198            5     250000  \n",
       "\n",
       "[5 rows x 41 columns]"
      ]
     },
     "execution_count": 25,
     "metadata": {},
     "output_type": "execute_result"
    }
   ],
   "source": [
    "from sklearn.preprocessing import OneHotEncoder\n",
    "for cat_name in feature:\n",
    "    cat = pd.DataFrame(train_data_df[cat_name])\n",
    "    enc = OneHotEncoder()\n",
    "    enc.fit(cat)\n",
    "    X_enc = enc.transform(cat).toarray()\n",
    "    X_enc\n",
    "    df = pd.DataFrame(X_enc,columns=enc.get_feature_names(cat.columns))\n",
    "    train_data = train_data.join(df)\n",
    "    train_data.drop(cat_name,axis=1,inplace=True)\n",
    "train_data = train_data.join(sp)\n",
    "train_data.head()"
   ]
  },
  {
   "cell_type": "markdown",
   "metadata": {},
   "source": [
    "##### Binning\n",
    "* To improve the accuracy of the model...Notice that these transformations are only perform on numerical data"
   ]
  },
  {
   "cell_type": "code",
   "execution_count": 26,
   "metadata": {},
   "outputs": [],
   "source": [
    "from sklearn.preprocessing import KBinsDiscretizer\n",
    "est = KBinsDiscretizer(n_bins=5, encode='ordinal', strategy='uniform')\n",
    "ftr = np.array(train_data[\"LotArea\"]).reshape(-1,1)\n",
    "est.fit(ftr)\n",
    "Xt = est.transform(ftr)\n",
    "train_data[\"LotArea\"] = Xt"
   ]
  },
  {
   "cell_type": "code",
   "execution_count": 27,
   "metadata": {},
   "outputs": [],
   "source": [
    "from sklearn.preprocessing import KBinsDiscretizer\n",
    "est = KBinsDiscretizer(n_bins=5, encode='ordinal', strategy='uniform')\n",
    "ftr = np.array(train_data[\"LotFrontage\"]).reshape(-1,1)\n",
    "est.fit(ftr)\n",
    "Xt = est.transform(ftr)\n",
    "train_data[\"LotFrontage\"] = Xt"
   ]
  },
  {
   "cell_type": "markdown",
   "metadata": {},
   "source": [
    "##### Log Transformation\n",
    "* To improve the accuracy of the model...Notice that these transformations are only perform on numerical data"
   ]
  },
  {
   "cell_type": "code",
   "execution_count": 28,
   "metadata": {},
   "outputs": [],
   "source": [
    "from sklearn.preprocessing import FunctionTransformer\n",
    "transformer = FunctionTransformer(np.log1p)\n",
    "ftr = train_data[\"1stFlrSF\"]\n",
    "transformer.fit(ftr)\n",
    "X = transformer.transform(ftr)\n",
    "train_data[\"1stFlrSF\"] = X"
   ]
  },
  {
   "cell_type": "markdown",
   "metadata": {},
   "source": [
    "##### Transformation Mathmatically\n",
    "* To improve the accuracy of the model. I would think that the overall quality of the home multiple by the living area of the home would be related to each. This is common sense."
   ]
  },
  {
   "cell_type": "code",
   "execution_count": 29,
   "metadata": {},
   "outputs": [],
   "source": [
    "x = train_data[\"GrLivArea\"]*train_data[\"OverallQual\"]\n",
    "train_data[\"OVQualXLivArea\"] = x"
   ]
  },
  {
   "cell_type": "markdown",
   "metadata": {},
   "source": [
    "## Model Evaluation"
   ]
  },
  {
   "cell_type": "markdown",
   "metadata": {},
   "source": [
    "#### Random Forrest Regressor\n",
    "* Use your new features to predict the home price. You will use RandomForestRegressor as shown in the class."
   ]
  },
  {
   "cell_type": "code",
   "execution_count": 30,
   "metadata": {},
   "outputs": [
    {
     "name": "stdout",
     "output_type": "stream",
     "text": [
      "Mean Absolute Error: 16121.607858851672\n",
      "Mean Squared Error: 613404695.2806329\n",
      "Root Mean Squared Error: 24767.008202054458\n",
      "R-squared Error: 0.8891778973302878\n"
     ]
    }
   ],
   "source": [
    "from sklearn.ensemble import RandomForestRegressor\n",
    "from sklearn.preprocessing import StandardScaler\n",
    "from sklearn.pipeline import make_pipeline\n",
    "from sklearn.model_selection import train_test_split\n",
    "from sklearn import metrics\n",
    "import shap\n",
    "%matplotlib inline\n",
    "import matplotlib.pyplot as plt\n",
    "pipe = make_pipeline(StandardScaler(),RandomForestRegressor())\n",
    "x = train_data.drop(\"SalePrice\",axis=1).values\n",
    "y = train_data[\"SalePrice\"].values\n",
    "x_train,x_test,y_train,y_test = train_test_split(x,y,test_size=0.30,random_state=42)\n",
    "pipe.fit(x_train,y_train)\n",
    "y_pred = pipe.predict(x_test)\n",
    "mae = metrics.mean_absolute_error(y_test, y_pred)\n",
    "mse = metrics.mean_squared_error(y_test, y_pred)\n",
    "rmse = np.sqrt(metrics.mean_squared_error(y_test, y_pred))\n",
    "rse = metrics.r2_score(y_test, y_pred)\n",
    "print('Mean Absolute Error:', mae)  \n",
    "print('Mean Squared Error:', mse)  \n",
    "print('Root Mean Squared Error:', rmse)\n",
    "print('R-squared Error:', rse)\n",
    "rfr_improved = pd.DataFrame({\"RFR_improvement\":[mae,mse,rmse,rse]},[\"mae\",\"mse\",\"rmse\",\"rse\"])"
   ]
  },
  {
   "cell_type": "markdown",
   "metadata": {},
   "source": [
    "##### Support Vector Regressor"
   ]
  },
  {
   "cell_type": "code",
   "execution_count": 31,
   "metadata": {},
   "outputs": [
    {
     "name": "stdout",
     "output_type": "stream",
     "text": [
      "Mean Absolute Error: 15392.512097770099\n",
      "Mean Squared Error: 529492471.8026853\n",
      "Root Mean Squared Error: 23010.7034182505\n",
      "R-squared Error: 0.9043380829582484\n"
     ]
    }
   ],
   "source": [
    "from sklearn.svm import SVR\n",
    "from sklearn.pipeline import make_pipeline\n",
    "from sklearn.preprocessing import StandardScaler\n",
    "pipe = make_pipeline(StandardScaler(), SVR(kernel='linear', C=10000))\n",
    "pipe.fit(x_train,y_train)\n",
    "# pipe.fit(x,y)\n",
    "y_pred = pipe.predict(x_test)\n",
    "# y_pred = pipe.predict(test_data.values)\n",
    "mae = metrics.mean_absolute_error(y_test, y_pred)\n",
    "mse = metrics.mean_squared_error(y_test, y_pred)\n",
    "rmse = np.sqrt(metrics.mean_squared_error(y_test, y_pred))\n",
    "rse = metrics.r2_score(y_test, y_pred)\n",
    "print('Mean Absolute Error:', mae)  \n",
    "print('Mean Squared Error:', mse)  \n",
    "print('Root Mean Squared Error:', rmse)\n",
    "print('R-squared Error:', rse)\n",
    "svr_improved = pd.DataFrame({\"SVR_improvement\":[mae,mse,rmse,rse]},[\"mae\",\"mse\",\"rmse\",\"rse\"])"
   ]
  },
  {
   "cell_type": "code",
   "execution_count": 32,
   "metadata": {},
   "outputs": [
    {
     "name": "stdout",
     "output_type": "stream",
     "text": [
      "Mean Absolute Error: 19577.46563723358\n",
      "Mean Squared Error: 873288376.2553086\n",
      "Root Mean Squared Error: 29551.453031201505\n",
      "R-squared Error: 0.842225442944555\n"
     ]
    }
   ],
   "source": [
    "from sklearn.neighbors import KNeighborsRegressor\n",
    "from sklearn.preprocessing import StandardScaler\n",
    "from sklearn.pipeline import make_pipeline\n",
    "pipe = make_pipeline(StandardScaler(),KNeighborsRegressor(n_neighbors=11))\n",
    "pipe.fit(x_train,y_train)\n",
    "y_pred = pipe.predict(x_test)\n",
    "mae = metrics.mean_absolute_error(y_test, y_pred)\n",
    "mse = metrics.mean_squared_error(y_test, y_pred)\n",
    "rmse = np.sqrt(metrics.mean_squared_error(y_test, y_pred))\n",
    "rse = metrics.r2_score(y_test, y_pred)\n",
    "print('Mean Absolute Error:', mae)  \n",
    "print('Mean Squared Error:', mse)  \n",
    "print('Root Mean Squared Error:', rmse)\n",
    "print('R-squared Error:', rse)\n",
    "knr_improved = pd.DataFrame({\"KNR_Improvement\":[mae,mse,rmse,rse]},[\"mae\",\"mse\",\"rmse\",\"rse\"])"
   ]
  },
  {
   "cell_type": "markdown",
   "metadata": {},
   "source": [
    "##### Models without any features engineered\n",
    "* The models below are using train_data that have no features engineered besides the label encoder so that the models can actual read in the data"
   ]
  },
  {
   "cell_type": "code",
   "execution_count": 33,
   "metadata": {},
   "outputs": [
    {
     "data": {
      "text/html": [
       "<div>\n",
       "<style scoped>\n",
       "    .dataframe tbody tr th:only-of-type {\n",
       "        vertical-align: middle;\n",
       "    }\n",
       "\n",
       "    .dataframe tbody tr th {\n",
       "        vertical-align: top;\n",
       "    }\n",
       "\n",
       "    .dataframe thead th {\n",
       "        text-align: right;\n",
       "    }\n",
       "</style>\n",
       "<table border=\"1\" class=\"dataframe\">\n",
       "  <thead>\n",
       "    <tr style=\"text-align: right;\">\n",
       "      <th></th>\n",
       "      <th>OverallQual</th>\n",
       "      <th>LotArea</th>\n",
       "      <th>Foundation</th>\n",
       "      <th>BsmtUnfSF</th>\n",
       "      <th>TotRmsAbvGrd</th>\n",
       "      <th>GarageFinish</th>\n",
       "      <th>FireplaceQu</th>\n",
       "      <th>HalfBath</th>\n",
       "      <th>GarageYrBlt</th>\n",
       "      <th>KitchenQual</th>\n",
       "      <th>...</th>\n",
       "      <th>SaleCondition</th>\n",
       "      <th>BsmtFinType1</th>\n",
       "      <th>LowQualFinSF</th>\n",
       "      <th>Electrical</th>\n",
       "      <th>GarageArea</th>\n",
       "      <th>YearBuilt</th>\n",
       "      <th>CentralAir</th>\n",
       "      <th>GrLivArea</th>\n",
       "      <th>OverallCond</th>\n",
       "      <th>SalePrice</th>\n",
       "    </tr>\n",
       "  </thead>\n",
       "  <tbody>\n",
       "    <tr>\n",
       "      <th>0</th>\n",
       "      <td>7</td>\n",
       "      <td>8450</td>\n",
       "      <td>2</td>\n",
       "      <td>150</td>\n",
       "      <td>8</td>\n",
       "      <td>2</td>\n",
       "      <td>3</td>\n",
       "      <td>1</td>\n",
       "      <td>2003.0</td>\n",
       "      <td>2</td>\n",
       "      <td>...</td>\n",
       "      <td>4</td>\n",
       "      <td>2</td>\n",
       "      <td>0</td>\n",
       "      <td>5</td>\n",
       "      <td>548</td>\n",
       "      <td>2003</td>\n",
       "      <td>1</td>\n",
       "      <td>1710</td>\n",
       "      <td>5</td>\n",
       "      <td>208500</td>\n",
       "    </tr>\n",
       "    <tr>\n",
       "      <th>1</th>\n",
       "      <td>6</td>\n",
       "      <td>9600</td>\n",
       "      <td>1</td>\n",
       "      <td>284</td>\n",
       "      <td>6</td>\n",
       "      <td>2</td>\n",
       "      <td>5</td>\n",
       "      <td>0</td>\n",
       "      <td>1976.0</td>\n",
       "      <td>3</td>\n",
       "      <td>...</td>\n",
       "      <td>4</td>\n",
       "      <td>0</td>\n",
       "      <td>0</td>\n",
       "      <td>5</td>\n",
       "      <td>460</td>\n",
       "      <td>1976</td>\n",
       "      <td>1</td>\n",
       "      <td>1262</td>\n",
       "      <td>8</td>\n",
       "      <td>181500</td>\n",
       "    </tr>\n",
       "    <tr>\n",
       "      <th>2</th>\n",
       "      <td>7</td>\n",
       "      <td>11250</td>\n",
       "      <td>2</td>\n",
       "      <td>434</td>\n",
       "      <td>6</td>\n",
       "      <td>2</td>\n",
       "      <td>5</td>\n",
       "      <td>1</td>\n",
       "      <td>2001.0</td>\n",
       "      <td>2</td>\n",
       "      <td>...</td>\n",
       "      <td>4</td>\n",
       "      <td>2</td>\n",
       "      <td>0</td>\n",
       "      <td>5</td>\n",
       "      <td>608</td>\n",
       "      <td>2001</td>\n",
       "      <td>1</td>\n",
       "      <td>1786</td>\n",
       "      <td>5</td>\n",
       "      <td>223500</td>\n",
       "    </tr>\n",
       "    <tr>\n",
       "      <th>3</th>\n",
       "      <td>7</td>\n",
       "      <td>9550</td>\n",
       "      <td>0</td>\n",
       "      <td>540</td>\n",
       "      <td>7</td>\n",
       "      <td>3</td>\n",
       "      <td>2</td>\n",
       "      <td>0</td>\n",
       "      <td>1998.0</td>\n",
       "      <td>2</td>\n",
       "      <td>...</td>\n",
       "      <td>0</td>\n",
       "      <td>0</td>\n",
       "      <td>0</td>\n",
       "      <td>5</td>\n",
       "      <td>642</td>\n",
       "      <td>1915</td>\n",
       "      <td>1</td>\n",
       "      <td>1717</td>\n",
       "      <td>5</td>\n",
       "      <td>140000</td>\n",
       "    </tr>\n",
       "    <tr>\n",
       "      <th>4</th>\n",
       "      <td>8</td>\n",
       "      <td>14260</td>\n",
       "      <td>2</td>\n",
       "      <td>490</td>\n",
       "      <td>9</td>\n",
       "      <td>2</td>\n",
       "      <td>5</td>\n",
       "      <td>1</td>\n",
       "      <td>2000.0</td>\n",
       "      <td>2</td>\n",
       "      <td>...</td>\n",
       "      <td>4</td>\n",
       "      <td>2</td>\n",
       "      <td>0</td>\n",
       "      <td>5</td>\n",
       "      <td>836</td>\n",
       "      <td>2000</td>\n",
       "      <td>1</td>\n",
       "      <td>2198</td>\n",
       "      <td>5</td>\n",
       "      <td>250000</td>\n",
       "    </tr>\n",
       "    <tr>\n",
       "      <th>...</th>\n",
       "      <td>...</td>\n",
       "      <td>...</td>\n",
       "      <td>...</td>\n",
       "      <td>...</td>\n",
       "      <td>...</td>\n",
       "      <td>...</td>\n",
       "      <td>...</td>\n",
       "      <td>...</td>\n",
       "      <td>...</td>\n",
       "      <td>...</td>\n",
       "      <td>...</td>\n",
       "      <td>...</td>\n",
       "      <td>...</td>\n",
       "      <td>...</td>\n",
       "      <td>...</td>\n",
       "      <td>...</td>\n",
       "      <td>...</td>\n",
       "      <td>...</td>\n",
       "      <td>...</td>\n",
       "      <td>...</td>\n",
       "      <td>...</td>\n",
       "    </tr>\n",
       "    <tr>\n",
       "      <th>1455</th>\n",
       "      <td>6</td>\n",
       "      <td>7917</td>\n",
       "      <td>2</td>\n",
       "      <td>953</td>\n",
       "      <td>7</td>\n",
       "      <td>2</td>\n",
       "      <td>5</td>\n",
       "      <td>1</td>\n",
       "      <td>1999.0</td>\n",
       "      <td>3</td>\n",
       "      <td>...</td>\n",
       "      <td>4</td>\n",
       "      <td>6</td>\n",
       "      <td>0</td>\n",
       "      <td>5</td>\n",
       "      <td>460</td>\n",
       "      <td>1999</td>\n",
       "      <td>1</td>\n",
       "      <td>1647</td>\n",
       "      <td>5</td>\n",
       "      <td>175000</td>\n",
       "    </tr>\n",
       "    <tr>\n",
       "      <th>1456</th>\n",
       "      <td>6</td>\n",
       "      <td>13175</td>\n",
       "      <td>1</td>\n",
       "      <td>589</td>\n",
       "      <td>7</td>\n",
       "      <td>3</td>\n",
       "      <td>5</td>\n",
       "      <td>0</td>\n",
       "      <td>1978.0</td>\n",
       "      <td>3</td>\n",
       "      <td>...</td>\n",
       "      <td>4</td>\n",
       "      <td>0</td>\n",
       "      <td>0</td>\n",
       "      <td>5</td>\n",
       "      <td>500</td>\n",
       "      <td>1978</td>\n",
       "      <td>1</td>\n",
       "      <td>2073</td>\n",
       "      <td>6</td>\n",
       "      <td>210000</td>\n",
       "    </tr>\n",
       "    <tr>\n",
       "      <th>1457</th>\n",
       "      <td>7</td>\n",
       "      <td>9042</td>\n",
       "      <td>4</td>\n",
       "      <td>877</td>\n",
       "      <td>9</td>\n",
       "      <td>2</td>\n",
       "      <td>2</td>\n",
       "      <td>0</td>\n",
       "      <td>1941.0</td>\n",
       "      <td>2</td>\n",
       "      <td>...</td>\n",
       "      <td>4</td>\n",
       "      <td>2</td>\n",
       "      <td>0</td>\n",
       "      <td>5</td>\n",
       "      <td>252</td>\n",
       "      <td>1941</td>\n",
       "      <td>1</td>\n",
       "      <td>2340</td>\n",
       "      <td>9</td>\n",
       "      <td>266500</td>\n",
       "    </tr>\n",
       "    <tr>\n",
       "      <th>1458</th>\n",
       "      <td>5</td>\n",
       "      <td>9717</td>\n",
       "      <td>1</td>\n",
       "      <td>0</td>\n",
       "      <td>5</td>\n",
       "      <td>3</td>\n",
       "      <td>3</td>\n",
       "      <td>0</td>\n",
       "      <td>1950.0</td>\n",
       "      <td>2</td>\n",
       "      <td>...</td>\n",
       "      <td>4</td>\n",
       "      <td>2</td>\n",
       "      <td>0</td>\n",
       "      <td>0</td>\n",
       "      <td>240</td>\n",
       "      <td>1950</td>\n",
       "      <td>1</td>\n",
       "      <td>1078</td>\n",
       "      <td>6</td>\n",
       "      <td>142125</td>\n",
       "    </tr>\n",
       "    <tr>\n",
       "      <th>1459</th>\n",
       "      <td>5</td>\n",
       "      <td>9937</td>\n",
       "      <td>1</td>\n",
       "      <td>136</td>\n",
       "      <td>6</td>\n",
       "      <td>0</td>\n",
       "      <td>3</td>\n",
       "      <td>1</td>\n",
       "      <td>1965.0</td>\n",
       "      <td>3</td>\n",
       "      <td>...</td>\n",
       "      <td>4</td>\n",
       "      <td>1</td>\n",
       "      <td>0</td>\n",
       "      <td>5</td>\n",
       "      <td>276</td>\n",
       "      <td>1965</td>\n",
       "      <td>1</td>\n",
       "      <td>1256</td>\n",
       "      <td>6</td>\n",
       "      <td>147500</td>\n",
       "    </tr>\n",
       "  </tbody>\n",
       "</table>\n",
       "<p>1391 rows × 41 columns</p>\n",
       "</div>"
      ],
      "text/plain": [
       "      OverallQual  LotArea  Foundation  BsmtUnfSF  TotRmsAbvGrd  GarageFinish  \\\n",
       "0               7     8450           2        150             8             2   \n",
       "1               6     9600           1        284             6             2   \n",
       "2               7    11250           2        434             6             2   \n",
       "3               7     9550           0        540             7             3   \n",
       "4               8    14260           2        490             9             2   \n",
       "...           ...      ...         ...        ...           ...           ...   \n",
       "1455            6     7917           2        953             7             2   \n",
       "1456            6    13175           1        589             7             3   \n",
       "1457            7     9042           4        877             9             2   \n",
       "1458            5     9717           1          0             5             3   \n",
       "1459            5     9937           1        136             6             0   \n",
       "\n",
       "      FireplaceQu  HalfBath  GarageYrBlt  KitchenQual  ...  SaleCondition  \\\n",
       "0               3         1       2003.0            2  ...              4   \n",
       "1               5         0       1976.0            3  ...              4   \n",
       "2               5         1       2001.0            2  ...              4   \n",
       "3               2         0       1998.0            2  ...              0   \n",
       "4               5         1       2000.0            2  ...              4   \n",
       "...           ...       ...          ...          ...  ...            ...   \n",
       "1455            5         1       1999.0            3  ...              4   \n",
       "1456            5         0       1978.0            3  ...              4   \n",
       "1457            2         0       1941.0            2  ...              4   \n",
       "1458            3         0       1950.0            2  ...              4   \n",
       "1459            3         1       1965.0            3  ...              4   \n",
       "\n",
       "      BsmtFinType1  LowQualFinSF  Electrical  GarageArea  YearBuilt  \\\n",
       "0                2             0           5         548       2003   \n",
       "1                0             0           5         460       1976   \n",
       "2                2             0           5         608       2001   \n",
       "3                0             0           5         642       1915   \n",
       "4                2             0           5         836       2000   \n",
       "...            ...           ...         ...         ...        ...   \n",
       "1455             6             0           5         460       1999   \n",
       "1456             0             0           5         500       1978   \n",
       "1457             2             0           5         252       1941   \n",
       "1458             2             0           0         240       1950   \n",
       "1459             1             0           5         276       1965   \n",
       "\n",
       "      CentralAir  GrLivArea  OverallCond  SalePrice  \n",
       "0              1       1710            5     208500  \n",
       "1              1       1262            8     181500  \n",
       "2              1       1786            5     223500  \n",
       "3              1       1717            5     140000  \n",
       "4              1       2198            5     250000  \n",
       "...          ...        ...          ...        ...  \n",
       "1455           1       1647            5     175000  \n",
       "1456           1       2073            6     210000  \n",
       "1457           1       2340            9     266500  \n",
       "1458           1       1078            6     142125  \n",
       "1459           1       1256            6     147500  \n",
       "\n",
       "[1391 rows x 41 columns]"
      ]
     },
     "execution_count": 33,
     "metadata": {},
     "output_type": "execute_result"
    }
   ],
   "source": [
    "train_data_old"
   ]
  },
  {
   "cell_type": "markdown",
   "metadata": {},
   "source": [
    "##### Random Forest OLD"
   ]
  },
  {
   "cell_type": "code",
   "execution_count": 34,
   "metadata": {},
   "outputs": [
    {
     "name": "stdout",
     "output_type": "stream",
     "text": [
      "Mean Absolute Error: 17045.234401913876\n",
      "Mean Squared Error: 724552544.8097281\n",
      "Root Mean Squared Error: 26917.513718947524\n",
      "R-squared Error: 0.8690971276739751\n"
     ]
    }
   ],
   "source": [
    "pipe = make_pipeline(RandomForestRegressor())\n",
    "x = train_data_old.drop(\"SalePrice\",axis=1).values\n",
    "y = train_data_old[\"SalePrice\"].values\n",
    "x_train,x_test,y_train,y_test = train_test_split(x,y,test_size=0.30,random_state=42)\n",
    "pipe.fit(x_train,y_train)\n",
    "y_pred = pipe.predict(x_test)\n",
    "mae = metrics.mean_absolute_error(y_test, y_pred)\n",
    "mse = metrics.mean_squared_error(y_test, y_pred)\n",
    "rmse = np.sqrt(metrics.mean_squared_error(y_test, y_pred))\n",
    "rse = metrics.r2_score(y_test, y_pred)\n",
    "print('Mean Absolute Error:', mae)  \n",
    "print('Mean Squared Error:', mse)  \n",
    "print('Root Mean Squared Error:', rmse)\n",
    "print('R-squared Error:', rse)\n",
    "rfr_old =pd.DataFrame({\"RFR_old\":[mae,mse,rmse,rse]},[\"mae\",\"mse\",\"rmse\",\"rse\"])"
   ]
  },
  {
   "cell_type": "markdown",
   "metadata": {},
   "source": [
    "##### Support Vector Regression OLD"
   ]
  },
  {
   "cell_type": "code",
   "execution_count": 35,
   "metadata": {},
   "outputs": [
    {
     "name": "stdout",
     "output_type": "stream",
     "text": [
      "Mean Absolute Error: 48154.87194143582\n",
      "Mean Squared Error: 4782629200.278432\n",
      "Root Mean Squared Error: 69156.55572885647\n",
      "R-squared Error: 0.13593582125755477\n"
     ]
    },
    {
     "data": {
      "text/html": [
       "<div>\n",
       "<style scoped>\n",
       "    .dataframe tbody tr th:only-of-type {\n",
       "        vertical-align: middle;\n",
       "    }\n",
       "\n",
       "    .dataframe tbody tr th {\n",
       "        vertical-align: top;\n",
       "    }\n",
       "\n",
       "    .dataframe thead th {\n",
       "        text-align: right;\n",
       "    }\n",
       "</style>\n",
       "<table border=\"1\" class=\"dataframe\">\n",
       "  <thead>\n",
       "    <tr style=\"text-align: right;\">\n",
       "      <th></th>\n",
       "      <th>SVR_old</th>\n",
       "    </tr>\n",
       "  </thead>\n",
       "  <tbody>\n",
       "    <tr>\n",
       "      <th>mae</th>\n",
       "      <td>4.815487e+04</td>\n",
       "    </tr>\n",
       "    <tr>\n",
       "      <th>mse</th>\n",
       "      <td>4.782629e+09</td>\n",
       "    </tr>\n",
       "    <tr>\n",
       "      <th>rmse</th>\n",
       "      <td>6.915656e+04</td>\n",
       "    </tr>\n",
       "    <tr>\n",
       "      <th>rse</th>\n",
       "      <td>1.359358e-01</td>\n",
       "    </tr>\n",
       "  </tbody>\n",
       "</table>\n",
       "</div>"
      ],
      "text/plain": [
       "           SVR_old\n",
       "mae   4.815487e+04\n",
       "mse   4.782629e+09\n",
       "rmse  6.915656e+04\n",
       "rse   1.359358e-01"
      ]
     },
     "execution_count": 35,
     "metadata": {},
     "output_type": "execute_result"
    }
   ],
   "source": [
    "pipe = make_pipeline(StandardScaler(), SVR(kernel='linear'))\n",
    "pipe.fit(x_train,y_train)\n",
    "y_pred = pipe.predict(x_test)\n",
    "mae = metrics.mean_absolute_error(y_test, y_pred)\n",
    "mse = metrics.mean_squared_error(y_test, y_pred)\n",
    "rmse = np.sqrt(metrics.mean_squared_error(y_test, y_pred))\n",
    "rse = metrics.r2_score(y_test, y_pred)\n",
    "print('Mean Absolute Error:', mae)  \n",
    "print('Mean Squared Error:', mse)  \n",
    "print('Root Mean Squared Error:', rmse)\n",
    "print('R-squared Error:', rse)\n",
    "svr_old = pd.DataFrame({\"SVR_old\":[mae,mse,rmse,rse]},[\"mae\",\"mse\",\"rmse\",\"rse\"])\n",
    "svr_old"
   ]
  },
  {
   "cell_type": "markdown",
   "metadata": {},
   "source": [
    "##### KNR OLD"
   ]
  },
  {
   "cell_type": "code",
   "execution_count": 36,
   "metadata": {},
   "outputs": [
    {
     "name": "stdout",
     "output_type": "stream",
     "text": [
      "Mean Absolute Error: 28447.419312744674\n",
      "Mean Squared Error: 1792865642.1132903\n",
      "Root Mean Squared Error: 42342.24417899092\n",
      "R-squared Error: 0.6760880022733146\n"
     ]
    }
   ],
   "source": [
    "from sklearn.neighbors import KNeighborsRegressor\n",
    "from sklearn.preprocessing import StandardScaler\n",
    "from sklearn.pipeline import make_pipeline\n",
    "pipe = make_pipeline(KNeighborsRegressor(n_neighbors=11))\n",
    "pipe.fit(x_train,y_train)\n",
    "y_pred = pipe.predict(x_test)\n",
    "mae = metrics.mean_absolute_error(y_test, y_pred)\n",
    "mse = metrics.mean_squared_error(y_test, y_pred)\n",
    "rmse = np.sqrt(metrics.mean_squared_error(y_test, y_pred))\n",
    "rse = metrics.r2_score(y_test, y_pred)\n",
    "print('Mean Absolute Error:', mae)  \n",
    "print('Mean Squared Error:', mse)  \n",
    "print('Root Mean Squared Error:', rmse)\n",
    "print('R-squared Error:', rse)\n",
    "knr_old = pd.DataFrame({\"KNR_old\":[mae,mse,rmse,rse]},[\"mae\",\"mse\",\"rmse\",\"rse\"])"
   ]
  },
  {
   "cell_type": "markdown",
   "metadata": {},
   "source": [
    "##### Metrics of Models"
   ]
  },
  {
   "cell_type": "code",
   "execution_count": 37,
   "metadata": {},
   "outputs": [
    {
     "data": {
      "text/html": [
       "<div>\n",
       "<style scoped>\n",
       "    .dataframe tbody tr th:only-of-type {\n",
       "        vertical-align: middle;\n",
       "    }\n",
       "\n",
       "    .dataframe tbody tr th {\n",
       "        vertical-align: top;\n",
       "    }\n",
       "\n",
       "    .dataframe thead th {\n",
       "        text-align: right;\n",
       "    }\n",
       "</style>\n",
       "<table border=\"1\" class=\"dataframe\">\n",
       "  <thead>\n",
       "    <tr style=\"text-align: right;\">\n",
       "      <th></th>\n",
       "      <th>mae</th>\n",
       "      <th>mse</th>\n",
       "      <th>rmse</th>\n",
       "      <th>rse</th>\n",
       "    </tr>\n",
       "  </thead>\n",
       "  <tbody>\n",
       "    <tr>\n",
       "      <th>RFR_improvement</th>\n",
       "      <td>16121.607859</td>\n",
       "      <td>613404695.280633</td>\n",
       "      <td>24767.008202</td>\n",
       "      <td>0.889178</td>\n",
       "    </tr>\n",
       "    <tr>\n",
       "      <th>RFR_old</th>\n",
       "      <td>17045.234402</td>\n",
       "      <td>724552544.809728</td>\n",
       "      <td>26917.513719</td>\n",
       "      <td>0.869097</td>\n",
       "    </tr>\n",
       "    <tr>\n",
       "      <th>SVR_improvement</th>\n",
       "      <td>15392.512098</td>\n",
       "      <td>529492471.802685</td>\n",
       "      <td>23010.703418</td>\n",
       "      <td>0.904338</td>\n",
       "    </tr>\n",
       "    <tr>\n",
       "      <th>SVR_old</th>\n",
       "      <td>48154.871941</td>\n",
       "      <td>4782629200.278432</td>\n",
       "      <td>69156.555729</td>\n",
       "      <td>0.135936</td>\n",
       "    </tr>\n",
       "    <tr>\n",
       "      <th>KNR_old</th>\n",
       "      <td>28447.419313</td>\n",
       "      <td>1792865642.113290</td>\n",
       "      <td>42342.244179</td>\n",
       "      <td>0.676088</td>\n",
       "    </tr>\n",
       "    <tr>\n",
       "      <th>KNR_Improvement</th>\n",
       "      <td>19577.465637</td>\n",
       "      <td>873288376.255309</td>\n",
       "      <td>29551.453031</td>\n",
       "      <td>0.842225</td>\n",
       "    </tr>\n",
       "  </tbody>\n",
       "</table>\n",
       "</div>"
      ],
      "text/plain": [
       "                         mae               mse         rmse      rse\n",
       "RFR_improvement 16121.607859  613404695.280633 24767.008202 0.889178\n",
       "RFR_old         17045.234402  724552544.809728 26917.513719 0.869097\n",
       "SVR_improvement 15392.512098  529492471.802685 23010.703418 0.904338\n",
       "SVR_old         48154.871941 4782629200.278432 69156.555729 0.135936\n",
       "KNR_old         28447.419313 1792865642.113290 42342.244179 0.676088\n",
       "KNR_Improvement 19577.465637  873288376.255309 29551.453031 0.842225"
      ]
     },
     "execution_count": 37,
     "metadata": {},
     "output_type": "execute_result"
    }
   ],
   "source": [
    "df_improvements = pd.concat([rfr_improved,rfr_old,svr_improved,svr_old,knr_old,knr_improved],axis=1)\n",
    "pd.set_option('float_format', '{:f}'.format)\n",
    "df_improvements.transpose()"
   ]
  },
  {
   "cell_type": "markdown",
   "metadata": {},
   "source": [
    "##### Showing Improvement based on R-Squared Error"
   ]
  },
  {
   "cell_type": "code",
   "execution_count": 38,
   "metadata": {},
   "outputs": [
    {
     "data": {
      "text/plain": [
       "Text(0, 0.5, 'R-Squared Error')"
      ]
     },
     "execution_count": 38,
     "metadata": {},
     "output_type": "execute_result"
    },
    {
     "data": {
      "image/png": "[encoded data removed]",
      "text/plain": [
       "<Figure size 432x288 with 1 Axes>"
      ]
     },
     "metadata": {
      "needs_background": "light"
     },
     "output_type": "display_data"
    }
   ],
   "source": [
    "fig = plt.figure()\n",
    "ax = fig.add_axes([0,0,1,1])\n",
    "old = [\"RFR_old\",\"SVR_old\",\"KNR_old\"]\n",
    "ax.bar(x = df_improvements.columns,height = df_improvements.transpose()[\"rse\"],width = 0.5)\n",
    "ax.bar(x = old,height = df_improvements[old].transpose()[\"rse\"],width = 0.5)\n",
    "ax.set_title('Machine Learning Model Comparison')\n",
    "ax.set_ylabel('R-Squared Error')"
   ]
  },
  {
   "cell_type": "markdown",
   "metadata": {},
   "source": [
    "##### Use Shapley summary plot to explain your model (Random Forrest Regressor)"
   ]
  },
  {
   "cell_type": "code",
   "execution_count": 39,
   "metadata": {},
   "outputs": [
    {
     "name": "stdout",
     "output_type": "stream",
     "text": [
      "Mean Absolute Error: 16438.09076355662\n",
      "Mean Squared Error: 626722268.6023237\n",
      "Root Mean Squared Error: 25034.42167501226\n",
      "R-squared Error: 0.8867718487797585\n"
     ]
    }
   ],
   "source": [
    "import shap\n",
    "scaler = StandardScaler()\n",
    "clf = RandomForestRegressor()\n",
    "x = train_data.drop(\"SalePrice\",axis=1)\n",
    "y = train_data[\"SalePrice\"]\n",
    "x_train,x_test,y_train,y_test = train_test_split(x,y,test_size=0.30,random_state=42)\n",
    "clf.fit(x_train,y_train)\n",
    "y_pred = clf.predict(x_test)\n",
    "print('Mean Absolute Error:', metrics.mean_absolute_error(y_test, y_pred))  \n",
    "print('Mean Squared Error:', metrics.mean_squared_error(y_test, y_pred))  \n",
    "print('Root Mean Squared Error:', np.sqrt(metrics.mean_squared_error(y_test, y_pred)))\n",
    "print('R-squared Error:', metrics.r2_score(y_test, y_pred))"
   ]
  },
  {
   "cell_type": "markdown",
   "metadata": {},
   "source": [
    "##### Feature Importance"
   ]
  },
  {
   "cell_type": "code",
   "execution_count": 40,
   "metadata": {},
   "outputs": [
    {
     "data": {
      "image/png": "[encoded data removed]",
      "text/plain": [
       "<Figure size 432x288 with 1 Axes>"
      ]
     },
     "metadata": {
      "needs_background": "light"
     },
     "output_type": "display_data"
    }
   ],
   "source": [
    "importances = clf.feature_importances_\n",
    "indices = np.argsort(importances)[-20:] \n",
    "features = x_train.columns\n",
    "plt.title('Feature Importances')\n",
    "plt.barh(range(len(indices)), importances[indices], color='b', align='center')\n",
    "plt.yticks(range(len(indices)), [features[i] for i in indices])\n",
    "plt.xlabel('Relative Importance')\n",
    "plt.show()"
   ]
  },
  {
   "cell_type": "markdown",
   "metadata": {},
   "source": [
    "##### SHAP Model"
   ]
  },
  {
   "cell_type": "code",
   "execution_count": 41,
   "metadata": {
    "scrolled": true
   },
   "outputs": [
    {
     "data": {
      "image/png": "[encoded data removed]",
      "text/plain": [
       "<Figure size 576x684 with 1 Axes>"
      ]
     },
     "metadata": {
      "needs_background": "light"
     },
     "output_type": "display_data"
    }
   ],
   "source": [
    "shap_values = shap.TreeExplainer(clf).shap_values(x_train)\n",
    "shap.summary_plot(shap_values, x_train, plot_type=\"bar\")"
   ]
  },
  {
   "cell_type": "markdown",
   "metadata": {},
   "source": [
    "##### SHAP Plot Summary"
   ]
  },
  {
   "cell_type": "code",
   "execution_count": 42,
   "metadata": {},
   "outputs": [
    {
     "data": {
      "image/png": "[encoded data removed]",
      "text/plain": [
       "<Figure size 576x684 with 2 Axes>"
      ]
     },
     "metadata": {
      "needs_background": "light"
     },
     "output_type": "display_data"
    }
   ],
   "source": [
    "shap.summary_plot(shap_values, x_train)"
   ]
  }
 ],
 "metadata": {
  "kernelspec": {
   "display_name": "Python 3",
   "language": "python",
   "name": "python3"
  },
  "language_info": {
   "codemirror_mode": {
    "name": "ipython",
    "version": 3
   },
   "file_extension": ".py",
   "mimetype": "text/x-python",
   "name": "python",
   "nbconvert_exporter": "python",
   "pygments_lexer": "ipython3",
   "version": "3.8.5"
  }
 },
 "nbformat": 4,
 "nbformat_minor": 5
}
