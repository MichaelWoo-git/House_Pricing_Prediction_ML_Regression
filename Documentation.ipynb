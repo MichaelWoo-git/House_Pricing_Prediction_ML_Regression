{
 "cells": [
  {
   "cell_type": "markdown",
   "id": "comparative-snowboard",
   "metadata": {},
   "source": [
    "# Project Name: House_Pricing_Prediction_ML_Regression\n",
    "#### Jupyter Notebook Name: Applied_Regression_Techniques_and_Analysis.ipynb"
   ]
  },
  {
   "cell_type": "markdown",
   "id": "virgin-complex",
   "metadata": {},
   "source": [
    "__Description__:\n",
    "Competition of predicting house pricing when given 79 explanatory varibles describing every aspect of residential homes in Ames, Iowa. My task was to predict the final price of each home. \n",
    "\n",
    "In order to acheive that, I did the following:\n",
    "* __Cleaned and Prepared the data__\n",
    "    * Handled outliers and ensure that no null values were present in the dataset\n",
    "* __Feature Selection and Engineering__\n",
    "    * Used statistical methods (_Spearman Correlation_,_Scoring Function_,  _Random Forest Feature Importance_) to choose the best features and reduced\n",
    "    * As for Engineering, _Hot Encoding_ transformations of the categorical features chosen, and _Binning_ and _Logarithmic_ transformations on numerical features chosen\n",
    "* __Evaluation Regression Models__\n",
    "    * Models that were used were the following: _Random Forest Regressor_, _Support Vector Regressor_, _Gradient Boosting Regressor_\n",
    "\n",
    "    * Compared them previous features that were used prior to feature selection and engineering\n",
    "    * Regression Metrics (MAE, MSE, RMSE, RS^2)\n",
    "    * SHAP Plots\n",
    "    "
   ]
  },
  {
   "cell_type": "markdown",
   "id": "historical-microphone",
   "metadata": {},
   "source": [
    "### Visuals"
   ]
  },
  {
   "cell_type": "markdown",
   "id": "administrative-contractor",
   "metadata": {},
   "source": [
    "### Metrics of the Models "
   ]
  },
  {
   "cell_type": "markdown",
   "id": "through-blend",
   "metadata": {},
   "source": [
    "![metrics](Screenshots/metrics.jpg)"
   ]
  },
  {
   "cell_type": "markdown",
   "id": "coral-allocation",
   "metadata": {},
   "source": [
    "### Model Summary"
   ]
  },
  {
   "cell_type": "markdown",
   "id": "intimate-bobby",
   "metadata": {},
   "source": [
    "![models](Screenshots/model_comparison.jpg)"
   ]
  },
  {
   "cell_type": "markdown",
   "id": "subjective-cartoon",
   "metadata": {},
   "source": [
    "### Shap Plot of Features"
   ]
  },
  {
   "cell_type": "markdown",
   "id": "certain-liberal",
   "metadata": {},
   "source": [
    "![shap](Screenshots/shap.jpg)"
   ]
  }
 ],
 "metadata": {
  "kernelspec": {
   "display_name": "Python 3",
   "language": "python",
   "name": "python3"
  },
  "language_info": {
   "codemirror_mode": {
    "name": "ipython",
    "version": 3
   },
   "file_extension": ".py",
   "mimetype": "text/x-python",
   "name": "python",
   "nbconvert_exporter": "python",
   "pygments_lexer": "ipython3",
   "version": "3.8.8"
  }
 },
 "nbformat": 4,
 "nbformat_minor": 5
}
